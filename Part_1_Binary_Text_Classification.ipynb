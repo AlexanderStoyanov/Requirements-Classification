{
 "cells": [
  {
   "cell_type": "code",
   "execution_count": 1,
   "metadata": {},
   "outputs": [],
   "source": [
    "#Partially adopted from Tensorflow/docs/basic_text_classification\n",
    "\n",
    "#https://github.com/tensorflow/docs/blob/master/site/en/tutorials/keras/basic_text_classification.ipynb"
   ]
  },
  {
   "cell_type": "code",
   "execution_count": 2,
   "metadata": {},
   "outputs": [
    {
     "name": "stdout",
     "output_type": "stream",
     "text": [
      "1.11.0\n",
      "[nltk_data] Downloading package punkt to /root/nltk_data...\n",
      "[nltk_data]   Package punkt is already up-to-date!\n"
     ]
    }
   ],
   "source": [
    "import tensorflow as tf\n",
    "from tensorflow import keras\n",
    "from sklearn.utils import shuffle\n",
    "import matplotlib.pyplot as plt\n",
    "\n",
    "import numpy as np\n",
    "\n",
    "print(tf.__version__)\n",
    "\n",
    "import nltk\n",
    "nltk.download('punkt')\n",
    "from nltk import word_tokenize\n",
    "stemmer = nltk.stem.SnowballStemmer('english')"
   ]
  },
  {
   "cell_type": "code",
   "execution_count": 3,
   "metadata": {},
   "outputs": [],
   "source": [
    "#MAPPING SENTENCES TO LIBRARY\n",
    "import json\n",
    "word_index = keras.datasets.imdb.get_word_index()\n",
    "\n",
    "#declare trainData as an empty list\n",
    "trainData = []\n",
    "trainLabels = []\n",
    "\n",
    "nonfunctional = 0\n",
    "functional = 0\n",
    "    \n",
    "#temp list for each sentence\n",
    "tempList = []\n",
    "\n",
    "#Keeping track of used requirement statements\n",
    "func = []\n",
    "nonfunc = []\n",
    "\n",
    "#this is the number of unique functional requirements in the data\n",
    "LIMIT = 1361\n",
    "\n",
    "with open(\"Consolidated_data.txt\",\"r\") as f, open(\"libraryStemmed.json\", \"r\") as l:\n",
    "    data = json.load(l)\n",
    "\n",
    "    #Go line by line in original data file\n",
    "    for line in f:\n",
    "        #find where class begins\n",
    "        front = line.find(\"\\\"class\\\":\\\"\")\n",
    "        #find where class ends (where sentence begins)\n",
    "        end = line.find(\"\\\",\\\"sentence\\\":\\\"\")\n",
    "        #substring line based on front and end above\n",
    "        reqClass = (line[(front+9):end]).lower()\n",
    "\n",
    "        #sentence\n",
    "        del tempList[:]\n",
    "        temp = line.find(\"\\\"sentence\\\":\\\"\")\n",
    "        sentence = (line[(temp+12):-4]).lower()\n",
    "        sentence = sentence.translate(None, '.,-\\\":;~!@#$%^&?[]{}<>`1234567890\\\\*()').strip()\n",
    "        \n",
    "        #check for nonfunc. keyword\n",
    "        if \"nonfunctional\" in reqClass and (nonfunctional < LIMIT):\n",
    "            #if it was already used, disregard it\n",
    "            if sentence in func:\n",
    "                continue\n",
    "            nonfunc.append(sentence)\n",
    "            nonfunctional +=1\n",
    "            trainLabels.append(0)\n",
    "            for x in sentence.split(' '):\n",
    "                x = unicode(x, 'utf-8')\n",
    "                x = stemmer.stem(x)\n",
    "                #if word found in library, add corresponding value to the array\n",
    "                if x in data:\n",
    "                    tempList.append(data[x])\n",
    "                #if word is not found, append 1 (<UNK> flag)\n",
    "                else:\n",
    "                    tempList.append(1)\n",
    "            trainData.append(tempList[:])\n",
    "        elif \"functional\" in reqClass and (functional < LIMIT):\n",
    "            #if it was already used, disregard it\n",
    "            if sentence in nonfunc:\n",
    "                continue\n",
    "            func.append(sentence)\n",
    "            functional +=1\n",
    "            trainLabels.append(1)\n",
    "            for x in sentence.split(' '):\n",
    "                x = unicode(x, 'utf-8')\n",
    "                x = stemmer.stem(x)\n",
    "                if x in data:\n",
    "                    tempList.append(data[x])\n",
    "                else:\n",
    "                    tempList.append(1)\n",
    "            trainData.append(tempList[:])\n",
    "        else:\n",
    "            if (nonfunctional < LIMIT):\n",
    "                #if it was already used, disregard it\n",
    "                if sentence in func:\n",
    "                    continue\n",
    "                nonfunc.append(sentence)\n",
    "                nonfunctional +=1\n",
    "                trainLabels.append(0)\n",
    "                for x in sentence.split(' '):\n",
    "                    x = unicode(x, 'utf-8')\n",
    "                    x = stemmer.stem(x)\n",
    "                    if x in data:\n",
    "                        tempList.append(data[x])\n",
    "                    else:\n",
    "                        tempList.append(1)\n",
    "                trainData.append(tempList[:])\n"
   ]
  },
  {
   "cell_type": "code",
   "execution_count": 4,
   "metadata": {},
   "outputs": [],
   "source": [
    "#randomizing data in two arrays without disrupting the order\n",
    "trainData, trainLabels = shuffle(trainData, trainLabels)"
   ]
  },
  {
   "cell_type": "code",
   "execution_count": 5,
   "metadata": {},
   "outputs": [],
   "source": [
    "#Taking a chunk of test data from the main dataset\n",
    "testData = []\n",
    "testLabels = []\n",
    "\n",
    "#keeping track of how many requirements of each type there are\n",
    "nonfunctional = 0\n",
    "functional = 0\n",
    "\n",
    "#this number represents of how many func. and nonfunc. requirements\n",
    "#will be chopped off the training dataset\n",
    "#(total is multiplied by 2)\n",
    "testDataNumber = 200\n",
    "\n",
    "for x in trainLabels:\n",
    "    if x == 1 and functional < testDataNumber:\n",
    "        functional += 1\n",
    "        testData.append(trainData.pop(0))\n",
    "        testLabels.append(trainLabels.pop(0))\n",
    "    else:\n",
    "        if x == 0 and nonfunctional < testDataNumber:\n",
    "            nonfunctional += 1\n",
    "            testData.append(trainData.pop(0))\n",
    "            testLabels.append(trainLabels.pop(0))"
   ]
  },
  {
   "cell_type": "code",
   "execution_count": 6,
   "metadata": {},
   "outputs": [
    {
     "name": "stdout",
     "output_type": "stream",
     "text": [
      "1174\n",
      "1148\n",
      "187\n",
      "213\n"
     ]
    }
   ],
   "source": [
    "#sanity check\n",
    "#checking if there is more of less an even amount of func. and nonfunc. requirements in both datasets\n",
    "print(trainLabels.count(1))\n",
    "print(trainLabels.count(0))\n",
    "print(testLabels.count(1))\n",
    "print(testLabels.count(0))"
   ]
  },
  {
   "cell_type": "code",
   "execution_count": 7,
   "metadata": {},
   "outputs": [],
   "source": [
    "#randomizing data in two arrays without disrupting the order\n",
    "testData, testLabels = shuffle(testData, testLabels)"
   ]
  },
  {
   "cell_type": "code",
   "execution_count": 8,
   "metadata": {},
   "outputs": [
    {
     "name": "stdout",
     "output_type": "stream",
     "text": [
      "[1, 1, 1, 73, 1, 1, 143, 249, 12, 1, 70, 1, 1, 222]\n",
      "[1, 9, 12, 83, 1, 42, 1, 229]\n"
     ]
    }
   ],
   "source": [
    "#sanity check\n",
    "#those should NOT be the same\n",
    "print testData[0]\n",
    "print trainData[0]"
   ]
  },
  {
   "cell_type": "code",
   "execution_count": 9,
   "metadata": {},
   "outputs": [],
   "source": [
    "# A dictionary mapping words to an integer index\n",
    "word_index = json.load(open('libraryStemmed.json', 'r'))\n",
    "\n",
    "word_index[\"<PAD>\"] = 0\n",
    "word_index[\"<UNK>\"] = 1 # unknown\n",
    "\n",
    "reverse_word_index = dict([(value, key) for (key, value) in word_index.items()])\n",
    "\n",
    "#function that decodes array of numbers into original requirement tezt\n",
    "def decode_requirement(text):\n",
    "    return ' '.join([reverse_word_index.get(i, '?') for i in text])"
   ]
  },
  {
   "cell_type": "code",
   "execution_count": 10,
   "metadata": {},
   "outputs": [
    {
     "name": "stdout",
     "output_type": "stream",
     "text": [
      "<UNK> system shall allow <UNK> report <UNK> except\n",
      "1\n"
     ]
    }
   ],
   "source": [
    "print(decode_requirement(trainData[0]))\n",
    "print(trainLabels[0])"
   ]
  },
  {
   "cell_type": "code",
   "execution_count": 11,
   "metadata": {},
   "outputs": [],
   "source": [
    "#Preprocessing train and test datasets to have equal max-length\n",
    "#since vector multiplication only works with the vectors of equal lengths\n",
    "#Optimal length is 32 (by trial and error)\n",
    "trainData = keras.preprocessing.sequence.pad_sequences(trainData,\n",
    "                                                        value=word_index[\"<PAD>\"],\n",
    "                                                        padding='post',\n",
    "                                                        maxlen=32)\n",
    "\n",
    "testData = keras.preprocessing.sequence.pad_sequences(testData,\n",
    "                                                       value=word_index[\"<PAD>\"],\n",
    "                                                       padding='post',\n",
    "                                                       maxlen=32)"
   ]
  },
  {
   "cell_type": "code",
   "execution_count": 12,
   "metadata": {},
   "outputs": [
    {
     "name": "stdout",
     "output_type": "stream",
     "text": [
      "_________________________________________________________________\n",
      "Layer (type)                 Output Shape              Param #   \n",
      "=================================================================\n",
      "embedding (Embedding)        (None, None, 16)          32080     \n",
      "_________________________________________________________________\n",
      "global_average_pooling1d (Gl (None, 16)                0         \n",
      "_________________________________________________________________\n",
      "dense (Dense)                (None, 16)                272       \n",
      "_________________________________________________________________\n",
      "dense_1 (Dense)              (None, 1)                 17        \n",
      "=================================================================\n",
      "Total params: 32,369\n",
      "Trainable params: 32,369\n",
      "Non-trainable params: 0\n",
      "_________________________________________________________________\n"
     ]
    }
   ],
   "source": [
    "#even though there are ~3000 unique stemmed words in the dataset,\n",
    "#we use only first 2000 (excluding stopwords) in order to not mislead the model\n",
    "#with rare occuring words\n",
    "vocab_size = 2005\n",
    "\n",
    "model = keras.Sequential()\n",
    "model.add(keras.layers.Embedding(vocab_size, 16))\n",
    "model.add(keras.layers.GlobalAveragePooling1D())\n",
    "model.add(keras.layers.Dense(16, activation=tf.nn.relu))\n",
    "model.add(keras.layers.Dense(1, activation=tf.nn.sigmoid))\n",
    "\n",
    "model.summary()"
   ]
  },
  {
   "cell_type": "code",
   "execution_count": 13,
   "metadata": {},
   "outputs": [],
   "source": [
    "model.compile(optimizer=tf.train.AdamOptimizer(),\n",
    "              loss='binary_crossentropy',\n",
    "              metrics=['accuracy'])"
   ]
  },
  {
   "cell_type": "code",
   "execution_count": 14,
   "metadata": {},
   "outputs": [],
   "source": [
    "#We take as many samples for training as we can\n",
    "#In this case, we only leave 200 for validation set\n",
    "x_val = trainData[2122:]\n",
    "partial_x_train = trainData[:2122]\n",
    "\n",
    "y_val = trainLabels[2122:]\n",
    "partial_y_train = trainLabels[:2122]"
   ]
  },
  {
   "cell_type": "code",
   "execution_count": 15,
   "metadata": {},
   "outputs": [
    {
     "name": "stdout",
     "output_type": "stream",
     "text": [
      "400/400 [==============================] - 0s 287us/step\n",
      "[0.6928424644470215, 0.5275]\n"
     ]
    }
   ],
   "source": [
    "#Sanity check\n",
    "#This should produce accuracy of around .5\n",
    "print(model.evaluate(testData, testLabels))"
   ]
  },
  {
   "cell_type": "code",
   "execution_count": 16,
   "metadata": {
    "scrolled": false
   },
   "outputs": [
    {
     "name": "stdout",
     "output_type": "stream",
     "text": [
      "Train on 2122 samples, validate on 200 samples\n",
      "Epoch 1/50\n",
      "2122/2122 [==============================] - 0s 153us/step - loss: 0.6927 - acc: 0.5184 - val_loss: 0.6918 - val_acc: 0.5600\n",
      "Epoch 2/50\n",
      "2122/2122 [==============================] - 0s 16us/step - loss: 0.6914 - acc: 0.5702 - val_loss: 0.6908 - val_acc: 0.5450\n",
      "Epoch 3/50\n",
      "2122/2122 [==============================] - 0s 15us/step - loss: 0.6902 - acc: 0.5763 - val_loss: 0.6896 - val_acc: 0.5600\n",
      "Epoch 4/50\n",
      "2122/2122 [==============================] - 0s 14us/step - loss: 0.6888 - acc: 0.5782 - val_loss: 0.6885 - val_acc: 0.5550\n",
      "Epoch 5/50\n",
      "2122/2122 [==============================] - 0s 14us/step - loss: 0.6874 - acc: 0.5844 - val_loss: 0.6873 - val_acc: 0.5750\n",
      "Epoch 6/50\n",
      "2122/2122 [==============================] - 0s 16us/step - loss: 0.6857 - acc: 0.5961 - val_loss: 0.6860 - val_acc: 0.5750\n",
      "Epoch 7/50\n",
      "2122/2122 [==============================] - 0s 16us/step - loss: 0.6840 - acc: 0.6084 - val_loss: 0.6845 - val_acc: 0.5750\n",
      "Epoch 8/50\n",
      "2122/2122 [==============================] - 0s 15us/step - loss: 0.6821 - acc: 0.6169 - val_loss: 0.6830 - val_acc: 0.5850\n",
      "Epoch 9/50\n",
      "2122/2122 [==============================] - 0s 18us/step - loss: 0.6800 - acc: 0.6221 - val_loss: 0.6813 - val_acc: 0.5850\n",
      "Epoch 10/50\n",
      "2122/2122 [==============================] - 0s 17us/step - loss: 0.6778 - acc: 0.6239 - val_loss: 0.6795 - val_acc: 0.6050\n",
      "Epoch 11/50\n",
      "2122/2122 [==============================] - 0s 19us/step - loss: 0.6754 - acc: 0.6400 - val_loss: 0.6776 - val_acc: 0.6250\n",
      "Epoch 12/50\n",
      "2122/2122 [==============================] - 0s 17us/step - loss: 0.6729 - acc: 0.6631 - val_loss: 0.6754 - val_acc: 0.6500\n",
      "Epoch 13/50\n",
      "2122/2122 [==============================] - 0s 15us/step - loss: 0.6700 - acc: 0.6654 - val_loss: 0.6729 - val_acc: 0.6350\n",
      "Epoch 14/50\n",
      "2122/2122 [==============================] - 0s 14us/step - loss: 0.6668 - acc: 0.6607 - val_loss: 0.6702 - val_acc: 0.6500\n",
      "Epoch 15/50\n",
      "2122/2122 [==============================] - 0s 17us/step - loss: 0.6634 - acc: 0.6697 - val_loss: 0.6673 - val_acc: 0.6750\n",
      "Epoch 16/50\n",
      "2122/2122 [==============================] - 0s 18us/step - loss: 0.6598 - acc: 0.6833 - val_loss: 0.6644 - val_acc: 0.6800\n",
      "Epoch 17/50\n",
      "2122/2122 [==============================] - 0s 18us/step - loss: 0.6559 - acc: 0.6894 - val_loss: 0.6612 - val_acc: 0.6800\n",
      "Epoch 18/50\n",
      "2122/2122 [==============================] - 0s 18us/step - loss: 0.6518 - acc: 0.6942 - val_loss: 0.6579 - val_acc: 0.7000\n",
      "Epoch 19/50\n",
      "2122/2122 [==============================] - 0s 16us/step - loss: 0.6474 - acc: 0.7107 - val_loss: 0.6547 - val_acc: 0.7150\n",
      "Epoch 20/50\n",
      "2122/2122 [==============================] - 0s 16us/step - loss: 0.6430 - acc: 0.7333 - val_loss: 0.6515 - val_acc: 0.7250\n",
      "Epoch 21/50\n",
      "2122/2122 [==============================] - 0s 16us/step - loss: 0.6387 - acc: 0.7531 - val_loss: 0.6479 - val_acc: 0.7050\n",
      "Epoch 22/50\n",
      "2122/2122 [==============================] - 0s 16us/step - loss: 0.6336 - acc: 0.7521 - val_loss: 0.6433 - val_acc: 0.7200\n",
      "Epoch 23/50\n",
      "2122/2122 [==============================] - 0s 18us/step - loss: 0.6282 - acc: 0.7488 - val_loss: 0.6391 - val_acc: 0.7200\n",
      "Epoch 24/50\n",
      "2122/2122 [==============================] - 0s 18us/step - loss: 0.6227 - acc: 0.7507 - val_loss: 0.6350 - val_acc: 0.7250\n",
      "Epoch 25/50\n",
      "2122/2122 [==============================] - 0s 16us/step - loss: 0.6173 - acc: 0.7611 - val_loss: 0.6309 - val_acc: 0.7150\n",
      "Epoch 26/50\n",
      "2122/2122 [==============================] - 0s 18us/step - loss: 0.6116 - acc: 0.7644 - val_loss: 0.6267 - val_acc: 0.7200\n",
      "Epoch 27/50\n",
      "2122/2122 [==============================] - 0s 22us/step - loss: 0.6057 - acc: 0.7672 - val_loss: 0.6223 - val_acc: 0.7200\n",
      "Epoch 28/50\n",
      "2122/2122 [==============================] - 0s 19us/step - loss: 0.5998 - acc: 0.7597 - val_loss: 0.6181 - val_acc: 0.7300\n",
      "Epoch 29/50\n",
      "2122/2122 [==============================] - 0s 20us/step - loss: 0.5941 - acc: 0.7535 - val_loss: 0.6140 - val_acc: 0.7250\n",
      "Epoch 30/50\n",
      "2122/2122 [==============================] - 0s 24us/step - loss: 0.5879 - acc: 0.7620 - val_loss: 0.6096 - val_acc: 0.7200\n",
      "Epoch 31/50\n",
      "2122/2122 [==============================] - 0s 20us/step - loss: 0.5815 - acc: 0.7813 - val_loss: 0.6064 - val_acc: 0.7200\n",
      "Epoch 32/50\n",
      "2122/2122 [==============================] - 0s 17us/step - loss: 0.5756 - acc: 0.7926 - val_loss: 0.6026 - val_acc: 0.7200\n",
      "Epoch 33/50\n",
      "2122/2122 [==============================] - 0s 20us/step - loss: 0.5692 - acc: 0.7931 - val_loss: 0.5977 - val_acc: 0.7200\n",
      "Epoch 34/50\n",
      "2122/2122 [==============================] - 0s 20us/step - loss: 0.5627 - acc: 0.7917 - val_loss: 0.5933 - val_acc: 0.7350\n",
      "Epoch 35/50\n",
      "2122/2122 [==============================] - 0s 17us/step - loss: 0.5562 - acc: 0.7908 - val_loss: 0.5898 - val_acc: 0.7300\n",
      "Epoch 36/50\n",
      "2122/2122 [==============================] - 0s 18us/step - loss: 0.5499 - acc: 0.7945 - val_loss: 0.5860 - val_acc: 0.7300\n",
      "Epoch 37/50\n",
      "2122/2122 [==============================] - 0s 16us/step - loss: 0.5434 - acc: 0.7959 - val_loss: 0.5829 - val_acc: 0.7300\n",
      "Epoch 38/50\n",
      "2122/2122 [==============================] - 0s 16us/step - loss: 0.5373 - acc: 0.8007 - val_loss: 0.5793 - val_acc: 0.7350\n",
      "Epoch 39/50\n",
      "2122/2122 [==============================] - 0s 21us/step - loss: 0.5311 - acc: 0.8049 - val_loss: 0.5753 - val_acc: 0.7350\n",
      "Epoch 40/50\n",
      "2122/2122 [==============================] - 0s 24us/step - loss: 0.5247 - acc: 0.8049 - val_loss: 0.5708 - val_acc: 0.7300\n",
      "Epoch 41/50\n",
      "2122/2122 [==============================] - 0s 22us/step - loss: 0.5182 - acc: 0.8035 - val_loss: 0.5665 - val_acc: 0.7300\n",
      "Epoch 42/50\n",
      "2122/2122 [==============================] - 0s 20us/step - loss: 0.5125 - acc: 0.8049 - val_loss: 0.5628 - val_acc: 0.7300\n",
      "Epoch 43/50\n",
      "2122/2122 [==============================] - 0s 19us/step - loss: 0.5058 - acc: 0.8087 - val_loss: 0.5613 - val_acc: 0.7350\n",
      "Epoch 44/50\n",
      "2122/2122 [==============================] - 0s 19us/step - loss: 0.5003 - acc: 0.8120 - val_loss: 0.5602 - val_acc: 0.7400\n",
      "Epoch 45/50\n",
      "2122/2122 [==============================] - 0s 21us/step - loss: 0.4946 - acc: 0.8153 - val_loss: 0.5560 - val_acc: 0.7500\n",
      "Epoch 46/50\n",
      "2122/2122 [==============================] - 0s 17us/step - loss: 0.4879 - acc: 0.8181 - val_loss: 0.5516 - val_acc: 0.7350\n",
      "Epoch 47/50\n",
      "2122/2122 [==============================] - 0s 15us/step - loss: 0.4824 - acc: 0.8110 - val_loss: 0.5486 - val_acc: 0.7300\n",
      "Epoch 48/50\n",
      "2122/2122 [==============================] - 0s 15us/step - loss: 0.4766 - acc: 0.8129 - val_loss: 0.5460 - val_acc: 0.7350\n",
      "Epoch 49/50\n",
      "2122/2122 [==============================] - 0s 15us/step - loss: 0.4706 - acc: 0.8186 - val_loss: 0.5433 - val_acc: 0.7300\n",
      "Epoch 50/50\n",
      "2122/2122 [==============================] - 0s 19us/step - loss: 0.4652 - acc: 0.8214 - val_loss: 0.5406 - val_acc: 0.7300\n"
     ]
    }
   ],
   "source": [
    "history = model.fit(partial_x_train,\n",
    "                    partial_y_train,\n",
    "                    epochs=50,\n",
    "                    batch_size=512,\n",
    "                    validation_data=(x_val, y_val),\n",
    "                    verbose=1)"
   ]
  },
  {
   "cell_type": "code",
   "execution_count": 17,
   "metadata": {},
   "outputs": [
    {
     "name": "stdout",
     "output_type": "stream",
     "text": [
      "400/400 [==============================] - 0s 40us/step\n",
      "[0.5415411865711213, 0.725]\n"
     ]
    }
   ],
   "source": [
    "#Evalueating model on the testset\n",
    "print(model.evaluate(testData, testLabels))"
   ]
  },
  {
   "cell_type": "code",
   "execution_count": 18,
   "metadata": {},
   "outputs": [
    {
     "data": {
      "text/plain": [
       "['acc', 'loss', 'val_acc', 'val_loss']"
      ]
     },
     "execution_count": 18,
     "metadata": {},
     "output_type": "execute_result"
    }
   ],
   "source": [
    "#The rest of the notebook helps vidualize losses and accuracies by ploting two separate grophs\n",
    "history_dict = history.history\n",
    "history_dict.keys()"
   ]
  },
  {
   "cell_type": "code",
   "execution_count": 19,
   "metadata": {},
   "outputs": [
    {
     "data": {
      "image/png": "[encoded data removed]",
      "text/plain": [
       "<Figure size 432x288 with 1 Axes>"
      ]
     },
     "metadata": {
      "needs_background": "light"
     },
     "output_type": "display_data"
    }
   ],
   "source": [
    "acc = history.history['acc']\n",
    "val_acc = history.history['val_acc']\n",
    "loss = history.history['loss']\n",
    "val_loss = history.history['val_loss']\n",
    "\n",
    "epochs = range(1, len(acc) + 1)\n",
    "\n",
    "# \"bo\" is for \"blue dot\"\n",
    "plt.plot(epochs, loss, 'bo', label='Training loss')\n",
    "# b is for \"solid blue line\"\n",
    "plt.plot(epochs, val_loss, 'b', label='Validation loss')\n",
    "plt.title('Training and validation loss')\n",
    "plt.xlabel('Epochs')\n",
    "plt.ylabel('Loss')\n",
    "plt.legend()\n",
    "\n",
    "plt.show()"
   ]
  },
  {
   "cell_type": "code",
   "execution_count": 20,
   "metadata": {},
   "outputs": [
    {
     "data": {
      "image/png": "[encoded data removed]",
      "text/plain": [
       "<Figure size 432x288 with 1 Axes>"
      ]
     },
     "metadata": {
      "needs_background": "light"
     },
     "output_type": "display_data"
    }
   ],
   "source": [
    "plt.clf() #clear figure\n",
    "acc_values = history_dict['acc']\n",
    "val_acc_values = history_dict['val_acc']\n",
    "\n",
    "plt.plot(epochs, acc, 'bo', label='Training acc')\n",
    "plt.plot(epochs, val_acc, 'b', label='Validation acc')\n",
    "plt.title('Training and validation accuracy')\n",
    "plt.xlabel('Epochs')\n",
    "plt.ylabel('Accuracy')\n",
    "plt.legend()\n",
    "\n",
    "plt.show()"
   ]
  }
 ],
 "metadata": {
  "kernelspec": {
   "display_name": "Python 2",
   "language": "python",
   "name": "python2"
  },
  "language_info": {
   "codemirror_mode": {
    "name": "ipython",
    "version": 2
   },
   "file_extension": ".py",
   "mimetype": "text/x-python",
   "name": "python",
   "nbconvert_exporter": "python",
   "pygments_lexer": "ipython2",
   "version": "2.7.12"
  }
 },
 "nbformat": 4,
 "nbformat_minor": 2
}
