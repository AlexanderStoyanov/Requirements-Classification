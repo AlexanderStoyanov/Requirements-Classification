{
 "cells": [
  {
   "cell_type": "code",
   "execution_count": 1,
   "metadata": {},
   "outputs": [],
   "source": [
    "#Partially adopted from Tensorflow/docs/basic_text_classification\n",
    "\n",
    "#https://github.com/tensorflow/docs/blob/master/site/en/tutorials/keras/basic_text_classification.ipynb"
   ]
  },
  {
   "cell_type": "code",
   "execution_count": 2,
   "metadata": {},
   "outputs": [
    {
     "name": "stdout",
     "output_type": "stream",
     "text": [
      "1.11.0\n",
      "[nltk_data] Downloading package punkt to /root/nltk_data...\n",
      "[nltk_data]   Package punkt is already up-to-date!\n"
     ]
    }
   ],
   "source": [
    "import tensorflow as tf\n",
    "from tensorflow import keras\n",
    "from sklearn.utils import shuffle\n",
    "import matplotlib.pyplot as plt\n",
    "\n",
    "import numpy as np\n",
    "\n",
    "print(tf.__version__)\n",
    "\n",
    "import nltk\n",
    "nltk.download('punkt')\n",
    "from nltk import word_tokenize\n",
    "stemmer = nltk.stem.SnowballStemmer('english')"
   ]
  },
  {
   "cell_type": "code",
   "execution_count": 3,
   "metadata": {},
   "outputs": [],
   "source": [
    "#MAPPING SENTENCES TO LIBRARY\n",
    "import json\n",
    "\n",
    "#declare trainData as an empty list\n",
    "trainData = []\n",
    "trainLabels = []\n",
    "\n",
    "#counters\n",
    "accessControl = 0\n",
    "other = 0\n",
    "    \n",
    "#temp list for each sentence\n",
    "tempList = []\n",
    "\n",
    "#Keeping track of used requirement statements\n",
    "used = []\n",
    "\n",
    "#this is the number of unique access control requirements in the data\n",
    "LIMIT = 464\n",
    "\n",
    "with open(\"Consolidated_data.txt\",\"r\") as f, open(\"libraryStemmed.json\", \"r\") as l:\n",
    "    data = json.load(l)\n",
    "\n",
    "    #Go line by line in original data file\n",
    "    for line in f:\n",
    "        #find where class begins\n",
    "        front = line.find(\"\\\"class\\\":\\\"\")\n",
    "        #find where class ends (where sentence begins)\n",
    "        end = line.find(\"\\\",\\\"sentence\\\":\\\"\")\n",
    "        #substring line based on front and end above\n",
    "        reqClass = (line[(front+9):end]).lower()\n",
    "\n",
    "        #sentence\n",
    "        del tempList[:]\n",
    "        temp = line.find(\"\\\"sentence\\\":\\\"\")\n",
    "        sentence = (line[(temp+12):-4]).lower()\n",
    "        sentence = sentence.translate(None, '.,-\\\":;~!@#$%^&?[]{}<>`1234567890\\\\*()').strip()\n",
    "        \n",
    "        if \"access control\" in reqClass and (accessControl < LIMIT):\n",
    "            #if it was already used, disregard it\n",
    "            if sentence in used:\n",
    "                continue\n",
    "            used.append(sentence)\n",
    "            accessControl +=1\n",
    "            trainLabels.append(1)\n",
    "            for x in sentence.split(' '):\n",
    "                x = unicode(x, 'utf-8')\n",
    "                x = stemmer.stem(x)\n",
    "                if x in data:\n",
    "                    tempList.append(data[x])\n",
    "                #else:\n",
    "                    #tempList.append(1)\n",
    "            trainData.append(tempList[:])\n",
    "        else:\n",
    "            if (other < LIMIT):\n",
    "                #if it was already used, disregard it\n",
    "                if sentence in used:\n",
    "                    continue\n",
    "                used.append(sentence)\n",
    "                other +=1\n",
    "                trainLabels.append(0)\n",
    "                for x in sentence.split(' '):\n",
    "                    x = unicode(x, 'utf-8')\n",
    "                    x = stemmer.stem(x)\n",
    "                    if x in data:\n",
    "                        tempList.append(data[x])\n",
    "                    #else:\n",
    "                        #tempList.append(1)\n",
    "                trainData.append(tempList[:])\n",
    "                \n"
   ]
  },
  {
   "cell_type": "code",
   "execution_count": 4,
   "metadata": {},
   "outputs": [],
   "source": [
    "#randomizing data in two arrays without disrupting the order\n",
    "trainData, trainLabels = shuffle(trainData, trainLabels)"
   ]
  },
  {
   "cell_type": "code",
   "execution_count": 5,
   "metadata": {},
   "outputs": [],
   "source": [
    "#Taking a chunk of test data from the main dataset\n",
    "testData = []\n",
    "testLabels = []\n",
    "\n",
    "#keeping track of how many requirements of each type there are\n",
    "nonfunctional = 0\n",
    "functional = 0\n",
    "\n",
    "#this number represents of how many func. and nonfunc. requirements\n",
    "#will be chopped off the training dataset\n",
    "#(total is multiplied by 2)\n",
    "testDataNumber = 40\n",
    "\n",
    "for x in trainLabels:\n",
    "    if x == 1 and functional < testDataNumber:\n",
    "        functional += 1\n",
    "        testData.append(trainData.pop(0))\n",
    "        testLabels.append(trainLabels.pop(0))\n",
    "    elif x == 0 and nonfunctional < testDataNumber:\n",
    "        nonfunctional += 1\n",
    "        testData.append(trainData.pop(0))\n",
    "        testLabels.append(trainLabels.pop(0))"
   ]
  },
  {
   "cell_type": "code",
   "execution_count": 6,
   "metadata": {},
   "outputs": [
    {
     "name": "stdout",
     "output_type": "stream",
     "text": [
      "423\n",
      "425\n",
      "41\n",
      "39\n"
     ]
    }
   ],
   "source": [
    "#sanity check\n",
    "#checking if there is more of less an even amount of func. and nonfunc. requirements in both datasets\n",
    "print(trainLabels.count(1))\n",
    "print(trainLabels.count(0))\n",
    "print(testLabels.count(1))\n",
    "print(testLabels.count(0))"
   ]
  },
  {
   "cell_type": "code",
   "execution_count": 7,
   "metadata": {},
   "outputs": [],
   "source": [
    "#randomizing data in two arrays without disrupting the order\n",
    "testData, testLabels = shuffle(testData, testLabels)"
   ]
  },
  {
   "cell_type": "code",
   "execution_count": 8,
   "metadata": {},
   "outputs": [
    {
     "name": "stdout",
     "output_type": "stream",
     "text": [
      "[24, 64, 161, 159, 222, 320, 159, 185]\n",
      "[9, 111, 236, 48, 140, 776]\n"
     ]
    }
   ],
   "source": [
    "#sanity check\n",
    "#those should NOT be the same\n",
    "print testData[0]\n",
    "print trainData[0]"
   ]
  },
  {
   "cell_type": "code",
   "execution_count": 9,
   "metadata": {},
   "outputs": [],
   "source": [
    "# A dictionary mapping words to an integer index\n",
    "word_index = json.load(open('libraryStemmed.json', 'r'))\n",
    "\n",
    "word_index[\"<PAD>\"] = 0\n",
    "word_index[\"<UNK>\"] = 1 # unknown\n",
    "\n",
    "reverse_word_index = dict([(value, key) for (key, value) in word_index.items()])\n",
    "\n",
    "#function that decodes array of numbers into original requirement tezt\n",
    "def decode_requirement(text):\n",
    "    return ' '.join([reverse_word_index.get(i, '?') for i in text])"
   ]
  },
  {
   "cell_type": "code",
   "execution_count": 10,
   "metadata": {},
   "outputs": [
    {
     "name": "stdout",
     "output_type": "stream",
     "text": [
      "system secur audit record follow way\n",
      "0\n"
     ]
    }
   ],
   "source": [
    "print(decode_requirement(trainData[0]))\n",
    "print(trainLabels[0])"
   ]
  },
  {
   "cell_type": "code",
   "execution_count": 11,
   "metadata": {},
   "outputs": [],
   "source": [
    "#Preprocessing train and test datasets to have equal max-length\n",
    "#since vector multiplication only works with the vectors of equal lengths\n",
    "#Optimal length is 32 (by trial and error)\n",
    "trainData = keras.preprocessing.sequence.pad_sequences(trainData,\n",
    "                                                        value=word_index[\"<PAD>\"],\n",
    "                                                        padding='post',\n",
    "                                                        maxlen=32)\n",
    "\n",
    "testData = keras.preprocessing.sequence.pad_sequences(testData,\n",
    "                                                       value=word_index[\"<PAD>\"],\n",
    "                                                       padding='post',\n",
    "                                                       maxlen=32)"
   ]
  },
  {
   "cell_type": "code",
   "execution_count": 12,
   "metadata": {},
   "outputs": [
    {
     "name": "stdout",
     "output_type": "stream",
     "text": [
      "_________________________________________________________________\n",
      "Layer (type)                 Output Shape              Param #   \n",
      "=================================================================\n",
      "embedding (Embedding)        (None, None, 16)          48080     \n",
      "_________________________________________________________________\n",
      "global_average_pooling1d (Gl (None, 16)                0         \n",
      "_________________________________________________________________\n",
      "dense (Dense)                (None, 16)                272       \n",
      "_________________________________________________________________\n",
      "dense_1 (Dense)              (None, 1)                 17        \n",
      "=================================================================\n",
      "Total params: 48,369\n",
      "Trainable params: 48,369\n",
      "Non-trainable params: 0\n",
      "_________________________________________________________________\n"
     ]
    }
   ],
   "source": [
    "#even though there are ~3000 unique stemmed words in the dataset,\n",
    "#we use only first 2000 (excluding stopwords) in order to not mislead the model\n",
    "#with rare occuring words\n",
    "vocab_size = 2005\n",
    "\n",
    "model = keras.Sequential()\n",
    "model.add(keras.layers.Embedding(vocab_size, 16))\n",
    "model.add(keras.layers.GlobalAveragePooling1D())\n",
    "model.add(keras.layers.Dense(16, activation=tf.nn.relu))\n",
    "model.add(keras.layers.Dense(1, activation=tf.nn.sigmoid))\n",
    "\n",
    "model.summary()"
   ]
  },
  {
   "cell_type": "code",
   "execution_count": 13,
   "metadata": {},
   "outputs": [],
   "source": [
    "model.compile(optimizer=tf.train.AdamOptimizer(),\n",
    "              loss='binary_crossentropy',\n",
    "              metrics=['accuracy'])"
   ]
  },
  {
   "cell_type": "code",
   "execution_count": 14,
   "metadata": {},
   "outputs": [],
   "source": [
    "#We take as many samples for training as we can\n",
    "#In this case, we only leave 700 for validation set\n",
    "x_val = trainData[700:]\n",
    "partial_x_train = trainData[:700]\n",
    "\n",
    "y_val = trainLabels[700:]\n",
    "partial_y_train = trainLabels[:700]"
   ]
  },
  {
   "cell_type": "code",
   "execution_count": 15,
   "metadata": {},
   "outputs": [],
   "source": [
    "#Sanity check\n",
    "#This should produce accuracy of around .5\n",
    "#print(model.evaluate(testData, testLabels))"
   ]
  },
  {
   "cell_type": "code",
   "execution_count": 16,
   "metadata": {
    "scrolled": false
   },
   "outputs": [
    {
     "name": "stdout",
     "output_type": "stream",
     "text": [
      "Train on 700 samples, validate on 148 samples\n",
      "Epoch 1/50\n",
      "700/700 [==============================] - 1s 1ms/step - loss: 0.6928 - acc: 0.5143 - val_loss: 0.6922 - val_acc: 0.5000\n",
      "Epoch 2/50\n",
      "700/700 [==============================] - 0s 37us/step - loss: 0.6918 - acc: 0.5400 - val_loss: 0.6914 - val_acc: 0.5270\n",
      "Epoch 3/50\n",
      "700/700 [==============================] - 0s 40us/step - loss: 0.6907 - acc: 0.5443 - val_loss: 0.6905 - val_acc: 0.5270\n",
      "Epoch 4/50\n",
      "700/700 [==============================] - 0s 42us/step - loss: 0.6892 - acc: 0.5686 - val_loss: 0.6891 - val_acc: 0.5473\n",
      "Epoch 5/50\n",
      "700/700 [==============================] - 0s 39us/step - loss: 0.6873 - acc: 0.6043 - val_loss: 0.6872 - val_acc: 0.5946\n",
      "Epoch 6/50\n",
      "700/700 [==============================] - 0s 37us/step - loss: 0.6848 - acc: 0.6186 - val_loss: 0.6852 - val_acc: 0.5878\n",
      "Epoch 7/50\n",
      "700/700 [==============================] - 0s 39us/step - loss: 0.6822 - acc: 0.6186 - val_loss: 0.6830 - val_acc: 0.6014\n",
      "Epoch 8/50\n",
      "700/700 [==============================] - 0s 45us/step - loss: 0.6791 - acc: 0.6386 - val_loss: 0.6803 - val_acc: 0.6081\n",
      "Epoch 9/50\n",
      "700/700 [==============================] - 0s 51us/step - loss: 0.6753 - acc: 0.6543 - val_loss: 0.6770 - val_acc: 0.6486\n",
      "Epoch 10/50\n",
      "700/700 [==============================] - 0s 46us/step - loss: 0.6709 - acc: 0.6871 - val_loss: 0.6734 - val_acc: 0.7095\n",
      "Epoch 11/50\n",
      "700/700 [==============================] - 0s 38us/step - loss: 0.6663 - acc: 0.7500 - val_loss: 0.6691 - val_acc: 0.7365\n",
      "Epoch 12/50\n",
      "700/700 [==============================] - 0s 37us/step - loss: 0.6601 - acc: 0.7729 - val_loss: 0.6639 - val_acc: 0.7162\n",
      "Epoch 13/50\n",
      "700/700 [==============================] - 0s 37us/step - loss: 0.6530 - acc: 0.7786 - val_loss: 0.6585 - val_acc: 0.7500\n",
      "Epoch 14/50\n",
      "700/700 [==============================] - 0s 43us/step - loss: 0.6459 - acc: 0.8057 - val_loss: 0.6528 - val_acc: 0.7500\n",
      "Epoch 15/50\n",
      "700/700 [==============================] - 0s 44us/step - loss: 0.6380 - acc: 0.8086 - val_loss: 0.6464 - val_acc: 0.7500\n",
      "Epoch 16/50\n",
      "700/700 [==============================] - 0s 47us/step - loss: 0.6289 - acc: 0.8200 - val_loss: 0.6393 - val_acc: 0.7568\n",
      "Epoch 17/50\n",
      "700/700 [==============================] - 0s 42us/step - loss: 0.6193 - acc: 0.8143 - val_loss: 0.6316 - val_acc: 0.7568\n",
      "Epoch 18/50\n",
      "700/700 [==============================] - 0s 38us/step - loss: 0.6088 - acc: 0.8214 - val_loss: 0.6234 - val_acc: 0.7500\n",
      "Epoch 19/50\n",
      "700/700 [==============================] - 0s 38us/step - loss: 0.5972 - acc: 0.8343 - val_loss: 0.6148 - val_acc: 0.7432\n",
      "Epoch 20/50\n",
      "700/700 [==============================] - 0s 46us/step - loss: 0.5854 - acc: 0.8314 - val_loss: 0.6058 - val_acc: 0.7703\n",
      "Epoch 21/50\n",
      "700/700 [==============================] - 0s 37us/step - loss: 0.5725 - acc: 0.8400 - val_loss: 0.5967 - val_acc: 0.7635\n",
      "Epoch 22/50\n",
      "700/700 [==============================] - 0s 43us/step - loss: 0.5599 - acc: 0.8386 - val_loss: 0.5873 - val_acc: 0.7432\n",
      "Epoch 23/50\n",
      "700/700 [==============================] - 0s 45us/step - loss: 0.5465 - acc: 0.8400 - val_loss: 0.5777 - val_acc: 0.7703\n",
      "Epoch 24/50\n",
      "700/700 [==============================] - 0s 38us/step - loss: 0.5328 - acc: 0.8557 - val_loss: 0.5682 - val_acc: 0.7905\n",
      "Epoch 25/50\n",
      "700/700 [==============================] - 0s 39us/step - loss: 0.5191 - acc: 0.8614 - val_loss: 0.5590 - val_acc: 0.8041\n",
      "Epoch 26/50\n",
      "700/700 [==============================] - 0s 46us/step - loss: 0.5052 - acc: 0.8671 - val_loss: 0.5494 - val_acc: 0.7973\n",
      "Epoch 27/50\n",
      "700/700 [==============================] - 0s 37us/step - loss: 0.4914 - acc: 0.8671 - val_loss: 0.5404 - val_acc: 0.7973\n",
      "Epoch 28/50\n",
      "700/700 [==============================] - 0s 43us/step - loss: 0.4777 - acc: 0.8700 - val_loss: 0.5319 - val_acc: 0.7838\n",
      "Epoch 29/50\n",
      "700/700 [==============================] - 0s 42us/step - loss: 0.4643 - acc: 0.8714 - val_loss: 0.5234 - val_acc: 0.7905\n",
      "Epoch 30/50\n",
      "700/700 [==============================] - 0s 38us/step - loss: 0.4514 - acc: 0.8814 - val_loss: 0.5158 - val_acc: 0.8176\n",
      "Epoch 31/50\n",
      "700/700 [==============================] - 0s 44us/step - loss: 0.4379 - acc: 0.8886 - val_loss: 0.5075 - val_acc: 0.8176\n",
      "Epoch 32/50\n",
      "700/700 [==============================] - 0s 37us/step - loss: 0.4254 - acc: 0.8829 - val_loss: 0.4999 - val_acc: 0.8176\n",
      "Epoch 33/50\n",
      "700/700 [==============================] - 0s 42us/step - loss: 0.4129 - acc: 0.8886 - val_loss: 0.4930 - val_acc: 0.8176\n",
      "Epoch 34/50\n",
      "700/700 [==============================] - 0s 46us/step - loss: 0.4011 - acc: 0.8886 - val_loss: 0.4865 - val_acc: 0.8176\n",
      "Epoch 35/50\n",
      "700/700 [==============================] - 0s 44us/step - loss: 0.3892 - acc: 0.8957 - val_loss: 0.4805 - val_acc: 0.8108\n",
      "Epoch 36/50\n",
      "700/700 [==============================] - 0s 38us/step - loss: 0.3787 - acc: 0.8914 - val_loss: 0.4753 - val_acc: 0.8108\n",
      "Epoch 37/50\n",
      "700/700 [==============================] - 0s 45us/step - loss: 0.3681 - acc: 0.8957 - val_loss: 0.4694 - val_acc: 0.8041\n",
      "Epoch 38/50\n",
      "700/700 [==============================] - 0s 40us/step - loss: 0.3579 - acc: 0.9014 - val_loss: 0.4645 - val_acc: 0.8108\n",
      "Epoch 39/50\n",
      "700/700 [==============================] - 0s 43us/step - loss: 0.3480 - acc: 0.9014 - val_loss: 0.4601 - val_acc: 0.8041\n",
      "Epoch 40/50\n",
      "700/700 [==============================] - 0s 39us/step - loss: 0.3385 - acc: 0.9014 - val_loss: 0.4561 - val_acc: 0.8108\n",
      "Epoch 41/50\n",
      "700/700 [==============================] - 0s 43us/step - loss: 0.3297 - acc: 0.9057 - val_loss: 0.4526 - val_acc: 0.8108\n",
      "Epoch 42/50\n",
      "700/700 [==============================] - 0s 42us/step - loss: 0.3218 - acc: 0.9086 - val_loss: 0.4502 - val_acc: 0.8041\n",
      "Epoch 43/50\n",
      "700/700 [==============================] - 0s 42us/step - loss: 0.3130 - acc: 0.9086 - val_loss: 0.4458 - val_acc: 0.8108\n",
      "Epoch 44/50\n",
      "700/700 [==============================] - 0s 38us/step - loss: 0.3048 - acc: 0.9057 - val_loss: 0.4425 - val_acc: 0.8108\n",
      "Epoch 45/50\n",
      "700/700 [==============================] - 0s 44us/step - loss: 0.2975 - acc: 0.9129 - val_loss: 0.4400 - val_acc: 0.8108\n",
      "Epoch 46/50\n",
      "700/700 [==============================] - 0s 37us/step - loss: 0.2902 - acc: 0.9157 - val_loss: 0.4383 - val_acc: 0.8108\n",
      "Epoch 47/50\n",
      "700/700 [==============================] - 0s 45us/step - loss: 0.2826 - acc: 0.9186 - val_loss: 0.4364 - val_acc: 0.8041\n",
      "Epoch 48/50\n",
      "700/700 [==============================] - 0s 42us/step - loss: 0.2754 - acc: 0.9186 - val_loss: 0.4338 - val_acc: 0.8176\n",
      "Epoch 49/50\n",
      "700/700 [==============================] - 0s 56us/step - loss: 0.2689 - acc: 0.9186 - val_loss: 0.4318 - val_acc: 0.8243\n",
      "Epoch 50/50\n",
      "700/700 [==============================] - 0s 66us/step - loss: 0.2620 - acc: 0.9243 - val_loss: 0.4309 - val_acc: 0.8108\n"
     ]
    }
   ],
   "source": [
    "history = model.fit(partial_x_train,\n",
    "                    partial_y_train,\n",
    "                    epochs=50,\n",
    "                    batch_size=128,\n",
    "                    validation_data=(x_val, y_val),\n",
    "                    verbose=1)"
   ]
  },
  {
   "cell_type": "code",
   "execution_count": 17,
   "metadata": {},
   "outputs": [
    {
     "name": "stdout",
     "output_type": "stream",
     "text": [
      "80/80 [==============================] - 0s 73us/step\n",
      "[0.3954546213150024, 0.8375]\n"
     ]
    }
   ],
   "source": [
    "#Evalueating model on the testset\n",
    "print(model.evaluate(testData, testLabels))"
   ]
  },
  {
   "cell_type": "code",
   "execution_count": 18,
   "metadata": {},
   "outputs": [
    {
     "data": {
      "text/plain": [
       "['acc', 'loss', 'val_acc', 'val_loss']"
      ]
     },
     "execution_count": 18,
     "metadata": {},
     "output_type": "execute_result"
    }
   ],
   "source": [
    "#The rest of the notebook helps vidualize losses and accuracies by ploting two separate grophs\n",
    "history_dict = history.history\n",
    "history_dict.keys()"
   ]
  },
  {
   "cell_type": "code",
   "execution_count": 19,
   "metadata": {},
   "outputs": [
    {
     "data": {
      "image/png": "[encoded data removed]",
      "text/plain": [
       "<Figure size 432x288 with 1 Axes>"
      ]
     },
     "metadata": {
      "needs_background": "light"
     },
     "output_type": "display_data"
    }
   ],
   "source": [
    "acc = history.history['acc']\n",
    "val_acc = history.history['val_acc']\n",
    "loss = history.history['loss']\n",
    "val_loss = history.history['val_loss']\n",
    "\n",
    "epochs = range(1, len(acc) + 1)\n",
    "\n",
    "# \"bo\" is for \"blue dot\"\n",
    "plt.plot(epochs, loss, 'bo', label='Training loss')\n",
    "# b is for \"solid blue line\"\n",
    "plt.plot(epochs, val_loss, 'b', label='Validation loss')\n",
    "plt.title('Training and validation loss')\n",
    "plt.xlabel('Epochs')\n",
    "plt.ylabel('Loss')\n",
    "plt.legend()\n",
    "\n",
    "plt.show()"
   ]
  },
  {
   "cell_type": "code",
   "execution_count": 20,
   "metadata": {},
   "outputs": [
    {
     "data": {
      "image/png": "[encoded data removed]",
      "text/plain": [
       "<Figure size 432x288 with 1 Axes>"
      ]
     },
     "metadata": {
      "needs_background": "light"
     },
     "output_type": "display_data"
    }
   ],
   "source": [
    "plt.clf() #clear figure\n",
    "acc_values = history_dict['acc']\n",
    "val_acc_values = history_dict['val_acc']\n",
    "\n",
    "plt.plot(epochs, acc, 'bo', label='Training acc')\n",
    "plt.plot(epochs, val_acc, 'b', label='Validation acc')\n",
    "plt.title('Training and validation accuracy')\n",
    "plt.xlabel('Epochs')\n",
    "plt.ylabel('Accuracy')\n",
    "plt.legend()\n",
    "\n",
    "plt.show()"
   ]
  }
 ],
 "metadata": {
  "kernelspec": {
   "display_name": "Python 2",
   "language": "python",
   "name": "python2"
  },
  "language_info": {
   "codemirror_mode": {
    "name": "ipython",
    "version": 2
   },
   "file_extension": ".py",
   "mimetype": "text/x-python",
   "name": "python",
   "nbconvert_exporter": "python",
   "pygments_lexer": "ipython2",
   "version": "2.7.12"
  }
 },
 "nbformat": 4,
 "nbformat_minor": 2
}
