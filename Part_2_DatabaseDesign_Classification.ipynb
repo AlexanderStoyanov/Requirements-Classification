{
 "cells": [
  {
   "cell_type": "code",
   "execution_count": 1,
   "metadata": {},
   "outputs": [],
   "source": [
    "#Partially adopted from Tensorflow/docs/basic_text_classification\n",
    "\n",
    "#https://github.com/tensorflow/docs/blob/master/site/en/tutorials/keras/basic_text_classification.ipynb"
   ]
  },
  {
   "cell_type": "code",
   "execution_count": 2,
   "metadata": {},
   "outputs": [
    {
     "name": "stdout",
     "output_type": "stream",
     "text": [
      "1.11.0\n",
      "[nltk_data] Downloading package punkt to /root/nltk_data...\n",
      "[nltk_data]   Package punkt is already up-to-date!\n"
     ]
    }
   ],
   "source": [
    "import tensorflow as tf\n",
    "from tensorflow import keras\n",
    "from sklearn.utils import shuffle\n",
    "import matplotlib.pyplot as plt\n",
    "\n",
    "import numpy as np\n",
    "\n",
    "print(tf.__version__)\n",
    "\n",
    "import nltk\n",
    "nltk.download('punkt')\n",
    "from nltk import word_tokenize\n",
    "stemmer = nltk.stem.SnowballStemmer('english')"
   ]
  },
  {
   "cell_type": "code",
   "execution_count": 3,
   "metadata": {},
   "outputs": [],
   "source": [
    "#MAPPING SENTENCES TO LIBRARY\n",
    "import json\n",
    "\n",
    "#declare trainData as an empty list\n",
    "trainData = []\n",
    "trainLabels = []\n",
    "\n",
    "#counters\n",
    "databaseDesign = 0\n",
    "other = 0\n",
    "    \n",
    "#temp list for each sentence\n",
    "tempList = []\n",
    "\n",
    "#Keeping track of used requirement statements\n",
    "used = []\n",
    "\n",
    "#this is the number of unique database design requirements in the data\n",
    "LIMIT = 852\n",
    "\n",
    "with open(\"Consolidated_data.txt\",\"r\") as f, open(\"libraryStemmed.json\", \"r\") as l:\n",
    "    data = json.load(l)\n",
    "\n",
    "    #Go line by line in original data file\n",
    "    for line in f:\n",
    "        #find where class begins\n",
    "        front = line.find(\"\\\"class\\\":\\\"\")\n",
    "        #find where class ends (where sentence begins)\n",
    "        end = line.find(\"\\\",\\\"sentence\\\":\\\"\")\n",
    "        #substring line based on front and end above\n",
    "        reqClass = (line[(front+9):end]).lower()\n",
    "\n",
    "        #sentence\n",
    "        del tempList[:]\n",
    "        temp = line.find(\"\\\"sentence\\\":\\\"\")\n",
    "        sentence = (line[(temp+12):-4]).lower()\n",
    "        sentence = sentence.translate(None, '.,-\\\":;~!@#$%^&?[]{}<>`1234567890\\\\*()').strip()\n",
    "        \n",
    "        if \"database design\" in reqClass and (databaseDesign < LIMIT):\n",
    "            #if it was already used, disregard it\n",
    "            if sentence in used:\n",
    "                continue\n",
    "            used.append(sentence)\n",
    "            databaseDesign +=1\n",
    "            trainLabels.append(1)\n",
    "            for x in sentence.split(' '):\n",
    "                x = unicode(x, 'utf-8')\n",
    "                x = stemmer.stem(x)\n",
    "                if x in data:\n",
    "                    tempList.append(data[x])\n",
    "                #else:\n",
    "                    #tempList.append(1)\n",
    "            trainData.append(tempList[:])\n",
    "        else:\n",
    "            if (other < LIMIT):\n",
    "                #if it was already used, disregard it\n",
    "                if sentence in used:\n",
    "                    continue\n",
    "                used.append(sentence)\n",
    "                other +=1\n",
    "                trainLabels.append(0)\n",
    "                for x in sentence.split(' '):\n",
    "                    x = unicode(x, 'utf-8')\n",
    "                    x = stemmer.stem(x)\n",
    "                    if x in data:\n",
    "                        tempList.append(data[x])\n",
    "                    #else:\n",
    "                        #tempList.append(1)\n",
    "                trainData.append(tempList[:])\n",
    "                \n"
   ]
  },
  {
   "cell_type": "code",
   "execution_count": 4,
   "metadata": {},
   "outputs": [],
   "source": [
    "#randomizing data in two arrays without disrupting the order\n",
    "trainData, trainLabels = shuffle(trainData, trainLabels)"
   ]
  },
  {
   "cell_type": "code",
   "execution_count": 5,
   "metadata": {},
   "outputs": [],
   "source": [
    "#Taking a chunk of test data from the main dataset\n",
    "testData = []\n",
    "testLabels = []\n",
    "\n",
    "#keeping track of how many requirements of each type there are\n",
    "nonfunctional = 0\n",
    "functional = 0\n",
    "\n",
    "#this number represents of how many func. and nonfunc. requirements\n",
    "#will be chopped off the training dataset\n",
    "#(total is multiplied by 2)\n",
    "testDataNumber = 80\n",
    "\n",
    "for x in trainLabels:\n",
    "    if x == 1 and functional < testDataNumber:\n",
    "        functional += 1\n",
    "        testData.append(trainData.pop(0))\n",
    "        testLabels.append(trainLabels.pop(0))\n",
    "    elif x == 0 and nonfunctional < testDataNumber:\n",
    "        nonfunctional += 1\n",
    "        testData.append(trainData.pop(0))\n",
    "        testLabels.append(trainLabels.pop(0))"
   ]
  },
  {
   "cell_type": "code",
   "execution_count": 6,
   "metadata": {},
   "outputs": [
    {
     "name": "stdout",
     "output_type": "stream",
     "text": [
      "778\n",
      "766\n",
      "74\n",
      "86\n"
     ]
    }
   ],
   "source": [
    "#sanity check\n",
    "#checking if there is more of less an even amount of func. and nonfunc. requirements in both datasets\n",
    "print(trainLabels.count(1))\n",
    "print(trainLabels.count(0))\n",
    "print(testLabels.count(1))\n",
    "print(testLabels.count(0))"
   ]
  },
  {
   "cell_type": "code",
   "execution_count": 7,
   "metadata": {},
   "outputs": [],
   "source": [
    "#randomizing data in two arrays without disrupting the order\n",
    "testData, testLabels = shuffle(testData, testLabels)"
   ]
  },
  {
   "cell_type": "code",
   "execution_count": 8,
   "metadata": {},
   "outputs": [
    {
     "name": "stdout",
     "output_type": "stream",
     "text": [
      "[603, 53, 128, 154, 222]\n",
      "[138, 146, 39, 121, 173, 758, 497, 88, 36]\n"
     ]
    }
   ],
   "source": [
    "#sanity check\n",
    "#those should NOT be the same\n",
    "print testData[0]\n",
    "print trainData[0]"
   ]
  },
  {
   "cell_type": "code",
   "execution_count": 9,
   "metadata": {},
   "outputs": [],
   "source": [
    "# A dictionary mapping words to an integer index\n",
    "word_index = json.load(open('libraryStemmed.json', 'r'))\n",
    "\n",
    "word_index[\"<PAD>\"] = 0\n",
    "word_index[\"<UNK>\"] = 1 # unknown\n",
    "\n",
    "reverse_word_index = dict([(value, key) for (key, value) in word_index.items()])\n",
    "\n",
    "#function that decodes array of numbers into original requirement tezt\n",
    "def decode_requirement(text):\n",
    "    return ' '.join([reverse_word_index.get(i, '?') for i in text])"
   ]
  },
  {
   "cell_type": "code",
   "execution_count": 10,
   "metadata": {},
   "outputs": [
    {
     "name": "stdout",
     "output_type": "stream",
     "text": [
      "prescript form includ search function look particular type medic\n",
      "1\n"
     ]
    }
   ],
   "source": [
    "print(decode_requirement(trainData[0]))\n",
    "print(trainLabels[0])"
   ]
  },
  {
   "cell_type": "code",
   "execution_count": 11,
   "metadata": {},
   "outputs": [],
   "source": [
    "#Preprocessing train and test datasets to have equal max-length\n",
    "#since vector multiplication only works with the vectors of equal lengths\n",
    "#Optimal length is 32 (by trial and error)\n",
    "trainData = keras.preprocessing.sequence.pad_sequences(trainData,\n",
    "                                                        value=word_index[\"<PAD>\"],\n",
    "                                                        padding='post',\n",
    "                                                        maxlen=32)\n",
    "\n",
    "testData = keras.preprocessing.sequence.pad_sequences(testData,\n",
    "                                                       value=word_index[\"<PAD>\"],\n",
    "                                                       padding='post',\n",
    "                                                       maxlen=32)"
   ]
  },
  {
   "cell_type": "code",
   "execution_count": 12,
   "metadata": {},
   "outputs": [
    {
     "name": "stdout",
     "output_type": "stream",
     "text": [
      "_________________________________________________________________\n",
      "Layer (type)                 Output Shape              Param #   \n",
      "=================================================================\n",
      "embedding (Embedding)        (None, None, 16)          32080     \n",
      "_________________________________________________________________\n",
      "global_average_pooling1d (Gl (None, 16)                0         \n",
      "_________________________________________________________________\n",
      "dense (Dense)                (None, 16)                272       \n",
      "_________________________________________________________________\n",
      "dense_1 (Dense)              (None, 1)                 17        \n",
      "=================================================================\n",
      "Total params: 32,369\n",
      "Trainable params: 32,369\n",
      "Non-trainable params: 0\n",
      "_________________________________________________________________\n"
     ]
    }
   ],
   "source": [
    "#even though there are ~3000 unique stemmed words in the dataset,\n",
    "#we use only first 2000 (excluding stopwords) in order to not mislead the model\n",
    "#with rare occuring words\n",
    "vocab_size = 2005\n",
    "\n",
    "model = keras.Sequential()\n",
    "model.add(keras.layers.Embedding(vocab_size, 16))\n",
    "model.add(keras.layers.GlobalAveragePooling1D())\n",
    "model.add(keras.layers.Dense(16, activation=tf.nn.relu))\n",
    "model.add(keras.layers.Dense(1, activation=tf.nn.sigmoid))\n",
    "\n",
    "model.summary()"
   ]
  },
  {
   "cell_type": "code",
   "execution_count": 13,
   "metadata": {},
   "outputs": [],
   "source": [
    "model.compile(optimizer=tf.train.AdamOptimizer(),\n",
    "              loss='binary_crossentropy',\n",
    "              metrics=['accuracy'])"
   ]
  },
  {
   "cell_type": "code",
   "execution_count": 14,
   "metadata": {},
   "outputs": [],
   "source": [
    "#We take as many samples for training as we can\n",
    "#In this case, we only leave 1200 for validation set\n",
    "x_val = trainData[1200:]\n",
    "partial_x_train = trainData[:1200]\n",
    "\n",
    "y_val = trainLabels[1200:]\n",
    "partial_y_train = trainLabels[:1200]"
   ]
  },
  {
   "cell_type": "code",
   "execution_count": 15,
   "metadata": {},
   "outputs": [],
   "source": [
    "#Sanity check\n",
    "#This should produce accuracy of around .5\n",
    "#print(model.evaluate(testData, testLabels))"
   ]
  },
  {
   "cell_type": "code",
   "execution_count": 16,
   "metadata": {
    "scrolled": false
   },
   "outputs": [
    {
     "name": "stdout",
     "output_type": "stream",
     "text": [
      "Train on 1200 samples, validate on 344 samples\n",
      "Epoch 1/50\n",
      "1200/1200 [==============================] - 1s 747us/step - loss: 0.6932 - acc: 0.4992 - val_loss: 0.6927 - val_acc: 0.4855\n",
      "Epoch 2/50\n",
      "1200/1200 [==============================] - 0s 39us/step - loss: 0.6912 - acc: 0.7000 - val_loss: 0.6908 - val_acc: 0.7064\n",
      "Epoch 3/50\n",
      "1200/1200 [==============================] - 0s 39us/step - loss: 0.6891 - acc: 0.7858 - val_loss: 0.6889 - val_acc: 0.7326\n",
      "Epoch 4/50\n",
      "1200/1200 [==============================] - 0s 39us/step - loss: 0.6862 - acc: 0.8325 - val_loss: 0.6866 - val_acc: 0.7442\n",
      "Epoch 5/50\n",
      "1200/1200 [==============================] - 0s 39us/step - loss: 0.6823 - acc: 0.8392 - val_loss: 0.6828 - val_acc: 0.7355\n",
      "Epoch 6/50\n",
      "1200/1200 [==============================] - 0s 74us/step - loss: 0.6766 - acc: 0.8242 - val_loss: 0.6774 - val_acc: 0.7238\n",
      "Epoch 7/50\n",
      "1200/1200 [==============================] - 0s 59us/step - loss: 0.6690 - acc: 0.8500 - val_loss: 0.6714 - val_acc: 0.7558\n",
      "Epoch 8/50\n",
      "1200/1200 [==============================] - 0s 46us/step - loss: 0.6594 - acc: 0.8425 - val_loss: 0.6625 - val_acc: 0.7442\n",
      "Epoch 9/50\n",
      "1200/1200 [==============================] - 0s 41us/step - loss: 0.6475 - acc: 0.8550 - val_loss: 0.6529 - val_acc: 0.7413\n",
      "Epoch 10/50\n",
      "1200/1200 [==============================] - 0s 43us/step - loss: 0.6331 - acc: 0.8492 - val_loss: 0.6409 - val_acc: 0.7384\n",
      "Epoch 11/50\n",
      "1200/1200 [==============================] - 0s 43us/step - loss: 0.6169 - acc: 0.8317 - val_loss: 0.6278 - val_acc: 0.7442\n",
      "Epoch 12/50\n",
      "1200/1200 [==============================] - 0s 39us/step - loss: 0.5982 - acc: 0.8708 - val_loss: 0.6156 - val_acc: 0.7820\n",
      "Epoch 13/50\n",
      "1200/1200 [==============================] - 0s 40us/step - loss: 0.5780 - acc: 0.8767 - val_loss: 0.5990 - val_acc: 0.7791\n",
      "Epoch 14/50\n",
      "1200/1200 [==============================] - 0s 40us/step - loss: 0.5552 - acc: 0.8783 - val_loss: 0.5827 - val_acc: 0.7820\n",
      "Epoch 15/50\n",
      "1200/1200 [==============================] - 0s 37us/step - loss: 0.5320 - acc: 0.8783 - val_loss: 0.5655 - val_acc: 0.7820\n",
      "Epoch 16/50\n",
      "1200/1200 [==============================] - 0s 41us/step - loss: 0.5085 - acc: 0.8783 - val_loss: 0.5489 - val_acc: 0.7907\n",
      "Epoch 17/50\n",
      "1200/1200 [==============================] - 0s 37us/step - loss: 0.4844 - acc: 0.8867 - val_loss: 0.5355 - val_acc: 0.7907\n",
      "Epoch 18/50\n",
      "1200/1200 [==============================] - 0s 38us/step - loss: 0.4600 - acc: 0.8900 - val_loss: 0.5164 - val_acc: 0.8081\n",
      "Epoch 19/50\n",
      "1200/1200 [==============================] - 0s 39us/step - loss: 0.4351 - acc: 0.8908 - val_loss: 0.5015 - val_acc: 0.7965\n",
      "Epoch 20/50\n",
      "1200/1200 [==============================] - 0s 73us/step - loss: 0.4118 - acc: 0.8925 - val_loss: 0.4879 - val_acc: 0.7965\n",
      "Epoch 21/50\n",
      "1200/1200 [==============================] - 0s 58us/step - loss: 0.3899 - acc: 0.8992 - val_loss: 0.4735 - val_acc: 0.8140\n",
      "Epoch 22/50\n",
      "1200/1200 [==============================] - 0s 47us/step - loss: 0.3697 - acc: 0.8967 - val_loss: 0.4622 - val_acc: 0.8140\n",
      "Epoch 23/50\n",
      "1200/1200 [==============================] - 0s 40us/step - loss: 0.3510 - acc: 0.9008 - val_loss: 0.4544 - val_acc: 0.7994\n",
      "Epoch 24/50\n",
      "1200/1200 [==============================] - 0s 40us/step - loss: 0.3343 - acc: 0.9058 - val_loss: 0.4442 - val_acc: 0.8169\n",
      "Epoch 25/50\n",
      "1200/1200 [==============================] - 0s 39us/step - loss: 0.3185 - acc: 0.9042 - val_loss: 0.4376 - val_acc: 0.8110\n",
      "Epoch 26/50\n",
      "1200/1200 [==============================] - 0s 38us/step - loss: 0.3050 - acc: 0.9067 - val_loss: 0.4304 - val_acc: 0.8198\n",
      "Epoch 27/50\n",
      "1200/1200 [==============================] - 0s 39us/step - loss: 0.2921 - acc: 0.9083 - val_loss: 0.4272 - val_acc: 0.8198\n",
      "Epoch 28/50\n",
      "1200/1200 [==============================] - 0s 38us/step - loss: 0.2803 - acc: 0.9125 - val_loss: 0.4218 - val_acc: 0.8256\n",
      "Epoch 29/50\n",
      "1200/1200 [==============================] - 0s 39us/step - loss: 0.2697 - acc: 0.9092 - val_loss: 0.4171 - val_acc: 0.8227\n",
      "Epoch 30/50\n",
      "1200/1200 [==============================] - 0s 42us/step - loss: 0.2593 - acc: 0.9167 - val_loss: 0.4172 - val_acc: 0.8198\n",
      "Epoch 31/50\n",
      "1200/1200 [==============================] - 0s 43us/step - loss: 0.2503 - acc: 0.9183 - val_loss: 0.4122 - val_acc: 0.8285\n",
      "Epoch 32/50\n",
      "1200/1200 [==============================] - 0s 37us/step - loss: 0.2414 - acc: 0.9192 - val_loss: 0.4105 - val_acc: 0.8227\n",
      "Epoch 33/50\n",
      "1200/1200 [==============================] - 0s 38us/step - loss: 0.2336 - acc: 0.9208 - val_loss: 0.4100 - val_acc: 0.8285\n",
      "Epoch 34/50\n",
      "1200/1200 [==============================] - 0s 92us/step - loss: 0.2265 - acc: 0.9275 - val_loss: 0.4109 - val_acc: 0.8314\n",
      "Epoch 35/50\n",
      "1200/1200 [==============================] - 0s 46us/step - loss: 0.2194 - acc: 0.9283 - val_loss: 0.4057 - val_acc: 0.8372\n",
      "Epoch 36/50\n",
      "1200/1200 [==============================] - 0s 43us/step - loss: 0.2122 - acc: 0.9317 - val_loss: 0.4095 - val_acc: 0.8343\n",
      "Epoch 37/50\n",
      "1200/1200 [==============================] - 0s 39us/step - loss: 0.2060 - acc: 0.9325 - val_loss: 0.4065 - val_acc: 0.8372\n",
      "Epoch 38/50\n",
      "1200/1200 [==============================] - 0s 41us/step - loss: 0.2003 - acc: 0.9358 - val_loss: 0.4078 - val_acc: 0.8343\n",
      "Epoch 39/50\n",
      "1200/1200 [==============================] - 0s 38us/step - loss: 0.1961 - acc: 0.9358 - val_loss: 0.4086 - val_acc: 0.8343\n",
      "Epoch 40/50\n",
      "1200/1200 [==============================] - 0s 37us/step - loss: 0.1899 - acc: 0.9417 - val_loss: 0.4046 - val_acc: 0.8285\n",
      "Epoch 41/50\n",
      "1200/1200 [==============================] - 0s 38us/step - loss: 0.1844 - acc: 0.9408 - val_loss: 0.4118 - val_acc: 0.8372\n",
      "Epoch 42/50\n",
      "1200/1200 [==============================] - 0s 40us/step - loss: 0.1795 - acc: 0.9408 - val_loss: 0.4087 - val_acc: 0.8372\n",
      "Epoch 43/50\n",
      "1200/1200 [==============================] - 0s 38us/step - loss: 0.1752 - acc: 0.9467 - val_loss: 0.4082 - val_acc: 0.8314\n",
      "Epoch 44/50\n",
      "1200/1200 [==============================] - 0s 37us/step - loss: 0.1711 - acc: 0.9475 - val_loss: 0.4152 - val_acc: 0.8372\n",
      "Epoch 45/50\n",
      "1200/1200 [==============================] - 0s 37us/step - loss: 0.1660 - acc: 0.9467 - val_loss: 0.4106 - val_acc: 0.8285\n",
      "Epoch 46/50\n",
      "1200/1200 [==============================] - 0s 40us/step - loss: 0.1627 - acc: 0.9492 - val_loss: 0.4167 - val_acc: 0.8372\n",
      "Epoch 47/50\n",
      "1200/1200 [==============================] - 0s 36us/step - loss: 0.1584 - acc: 0.9475 - val_loss: 0.4156 - val_acc: 0.8285\n",
      "Epoch 48/50\n",
      "1200/1200 [==============================] - 0s 40us/step - loss: 0.1561 - acc: 0.9542 - val_loss: 0.4164 - val_acc: 0.8285\n",
      "Epoch 49/50\n",
      "1200/1200 [==============================] - 0s 39us/step - loss: 0.1533 - acc: 0.9533 - val_loss: 0.4302 - val_acc: 0.8343\n",
      "Epoch 50/50\n",
      "1200/1200 [==============================] - 0s 43us/step - loss: 0.1480 - acc: 0.9533 - val_loss: 0.4202 - val_acc: 0.8285\n"
     ]
    }
   ],
   "source": [
    "history = model.fit(partial_x_train,\n",
    "                    partial_y_train,\n",
    "                    epochs=50,\n",
    "                    batch_size=128,\n",
    "                    validation_data=(x_val, y_val),\n",
    "                    verbose=1)"
   ]
  },
  {
   "cell_type": "code",
   "execution_count": 17,
   "metadata": {},
   "outputs": [
    {
     "name": "stdout",
     "output_type": "stream",
     "text": [
      "160/160 [==============================] - 0s 41us/step\n",
      "[0.3627316653728485, 0.85625]\n"
     ]
    }
   ],
   "source": [
    "#Evalueating model on the testset\n",
    "print(model.evaluate(testData, testLabels))"
   ]
  },
  {
   "cell_type": "code",
   "execution_count": 18,
   "metadata": {},
   "outputs": [
    {
     "data": {
      "text/plain": [
       "['acc', 'loss', 'val_acc', 'val_loss']"
      ]
     },
     "execution_count": 18,
     "metadata": {},
     "output_type": "execute_result"
    }
   ],
   "source": [
    "#The rest of the notebook helps vidualize losses and accuracies by ploting two separate grophs\n",
    "history_dict = history.history\n",
    "history_dict.keys()"
   ]
  },
  {
   "cell_type": "code",
   "execution_count": 19,
   "metadata": {},
   "outputs": [
    {
     "data": {
      "image/png": "[encoded data removed]",
      "text/plain": [
       "<Figure size 432x288 with 1 Axes>"
      ]
     },
     "metadata": {
      "needs_background": "light"
     },
     "output_type": "display_data"
    }
   ],
   "source": [
    "acc = history.history['acc']\n",
    "val_acc = history.history['val_acc']\n",
    "loss = history.history['loss']\n",
    "val_loss = history.history['val_loss']\n",
    "\n",
    "epochs = range(1, len(acc) + 1)\n",
    "\n",
    "# \"bo\" is for \"blue dot\"\n",
    "plt.plot(epochs, loss, 'bo', label='Training loss')\n",
    "# b is for \"solid blue line\"\n",
    "plt.plot(epochs, val_loss, 'b', label='Validation loss')\n",
    "plt.title('Training and validation loss')\n",
    "plt.xlabel('Epochs')\n",
    "plt.ylabel('Loss')\n",
    "plt.legend()\n",
    "\n",
    "plt.show()"
   ]
  },
  {
   "cell_type": "code",
   "execution_count": 20,
   "metadata": {},
   "outputs": [
    {
     "data": {
      "image/png": "[encoded data removed]",
      "text/plain": [
       "<Figure size 432x288 with 1 Axes>"
      ]
     },
     "metadata": {
      "needs_background": "light"
     },
     "output_type": "display_data"
    }
   ],
   "source": [
    "plt.clf() #clear figure\n",
    "acc_values = history_dict['acc']\n",
    "val_acc_values = history_dict['val_acc']\n",
    "\n",
    "plt.plot(epochs, acc, 'bo', label='Training acc')\n",
    "plt.plot(epochs, val_acc, 'b', label='Validation acc')\n",
    "plt.title('Training and validation accuracy')\n",
    "plt.xlabel('Epochs')\n",
    "plt.ylabel('Accuracy')\n",
    "plt.legend()\n",
    "\n",
    "plt.show()"
   ]
  }
 ],
 "metadata": {
  "kernelspec": {
   "display_name": "Python 2",
   "language": "python",
   "name": "python2"
  },
  "language_info": {
   "codemirror_mode": {
    "name": "ipython",
    "version": 2
   },
   "file_extension": ".py",
   "mimetype": "text/x-python",
   "name": "python",
   "nbconvert_exporter": "python",
   "pygments_lexer": "ipython2",
   "version": "2.7.12"
  }
 },
 "nbformat": 4,
 "nbformat_minor": 2
}
