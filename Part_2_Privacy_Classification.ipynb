{
 "cells": [
  {
   "cell_type": "code",
   "execution_count": 1,
   "metadata": {},
   "outputs": [],
   "source": [
    "#Partially adopted from Tensorflow/docs/basic_text_classification\n",
    "\n",
    "#https://github.com/tensorflow/docs/blob/master/site/en/tutorials/keras/basic_text_classification.ipynb"
   ]
  },
  {
   "cell_type": "code",
   "execution_count": 2,
   "metadata": {},
   "outputs": [
    {
     "name": "stdout",
     "output_type": "stream",
     "text": [
      "1.11.0\n",
      "[nltk_data] Downloading package punkt to /root/nltk_data...\n",
      "[nltk_data]   Package punkt is already up-to-date!\n"
     ]
    }
   ],
   "source": [
    "import tensorflow as tf\n",
    "from tensorflow import keras\n",
    "from sklearn.utils import shuffle\n",
    "import matplotlib.pyplot as plt\n",
    "\n",
    "import numpy as np\n",
    "\n",
    "print(tf.__version__)\n",
    "\n",
    "import nltk\n",
    "nltk.download('punkt')\n",
    "from nltk import word_tokenize\n",
    "stemmer = nltk.stem.SnowballStemmer('english')"
   ]
  },
  {
   "cell_type": "code",
   "execution_count": 3,
   "metadata": {},
   "outputs": [],
   "source": [
    "#MAPPING SENTENCES TO LIBRARY\n",
    "import json\n",
    "\n",
    "#declare trainData as an empty list\n",
    "trainData = []\n",
    "trainLabels = []\n",
    "\n",
    "#counters\n",
    "privacy = 0\n",
    "other = 0\n",
    "    \n",
    "#temp list for each sentence\n",
    "tempList = []\n",
    "\n",
    "#Keeping track of used requirement statements\n",
    "used = []\n",
    "\n",
    "#this is the number of unique privacy requirements in the data\n",
    "LIMIT = 208\n",
    "\n",
    "with open(\"Consolidated_data.txt\",\"r\") as f, open(\"libraryStemmed.json\", \"r\") as l:\n",
    "    data = json.load(l)\n",
    "\n",
    "    #Go line by line in original data file\n",
    "    for line in f:\n",
    "        #find where class begins\n",
    "        front = line.find(\"\\\"class\\\":\\\"\")\n",
    "        #find where class ends (where sentence begins)\n",
    "        end = line.find(\"\\\",\\\"sentence\\\":\\\"\")\n",
    "        #substring line based on front and end above\n",
    "        reqClass = (line[(front+9):end]).lower()\n",
    "\n",
    "        #sentence\n",
    "        del tempList[:]\n",
    "        temp = line.find(\"\\\"sentence\\\":\\\"\")\n",
    "        sentence = (line[(temp+12):-4]).lower()\n",
    "        sentence = sentence.translate(None, '.,-\\\":;~!@#$%^&?[]{}<>`1234567890\\\\*()').strip()\n",
    "        \n",
    "        if \"privacy\" in reqClass and (privacy < LIMIT):\n",
    "            #if it was already used, disregard it\n",
    "            if sentence in used:\n",
    "                continue\n",
    "            used.append(sentence)\n",
    "            privacy +=1\n",
    "            trainLabels.append(1)\n",
    "            for x in sentence.split(' '):\n",
    "                x = unicode(x, 'utf-8')\n",
    "                x = stemmer.stem(x)\n",
    "                if x in data:\n",
    "                    tempList.append(data[x])\n",
    "                #else:\n",
    "                    #tempList.append(1)\n",
    "            trainData.append(tempList[:])\n",
    "        else:\n",
    "            if (other < LIMIT):\n",
    "                #if it was already used, disregard it\n",
    "                if sentence in used:\n",
    "                    continue\n",
    "                used.append(sentence)\n",
    "                other +=1\n",
    "                trainLabels.append(0)\n",
    "                for x in sentence.split(' '):\n",
    "                    x = unicode(x, 'utf-8')\n",
    "                    x = stemmer.stem(x)\n",
    "                    if x in data:\n",
    "                        tempList.append(data[x])\n",
    "                    #else:\n",
    "                        #tempList.append(1)\n",
    "                trainData.append(tempList[:])\n",
    "                \n"
   ]
  },
  {
   "cell_type": "code",
   "execution_count": 4,
   "metadata": {},
   "outputs": [],
   "source": [
    "#randomizing data in two arrays without disrupting the order\n",
    "trainData, trainLabels = shuffle(trainData, trainLabels)"
   ]
  },
  {
   "cell_type": "code",
   "execution_count": 5,
   "metadata": {},
   "outputs": [],
   "source": [
    "#Taking a chunk of test data from the main dataset\n",
    "testData = []\n",
    "testLabels = []\n",
    "\n",
    "#keeping track of how many requirements of each type there are\n",
    "nonfunctional = 0\n",
    "functional = 0\n",
    "\n",
    "#this number represents of how many func. and nonfunc. requirements\n",
    "#will be chopped off the training dataset\n",
    "#(total is multiplied by 2)\n",
    "testDataNumber = 50\n",
    "\n",
    "for x in trainLabels:\n",
    "    if x == 1 and functional < testDataNumber:\n",
    "        functional += 1\n",
    "        testData.append(trainData.pop(0))\n",
    "        testLabels.append(trainLabels.pop(0))\n",
    "    elif x == 0 and nonfunctional < testDataNumber:\n",
    "        nonfunctional += 1\n",
    "        testData.append(trainData.pop(0))\n",
    "        testLabels.append(trainLabels.pop(0))"
   ]
  },
  {
   "cell_type": "code",
   "execution_count": 6,
   "metadata": {},
   "outputs": [
    {
     "name": "stdout",
     "output_type": "stream",
     "text": [
      "163\n",
      "153\n",
      "45\n",
      "55\n"
     ]
    }
   ],
   "source": [
    "#sanity check\n",
    "#checking if there is more of less an even amount of func. and nonfunc. requirements in both datasets\n",
    "print(trainLabels.count(1))\n",
    "print(trainLabels.count(0))\n",
    "print(testLabels.count(1))\n",
    "print(testLabels.count(0))"
   ]
  },
  {
   "cell_type": "code",
   "execution_count": 7,
   "metadata": {},
   "outputs": [],
   "source": [
    "#randomizing data in two arrays without disrupting the order\n",
    "testData, testLabels = shuffle(testData, testLabels)"
   ]
  },
  {
   "cell_type": "code",
   "execution_count": 8,
   "metadata": {},
   "outputs": [
    {
     "name": "stdout",
     "output_type": "stream",
     "text": [
      "[580, 76, 171, 50, 12, 467, 223, 29, 84, 38, 23, 17, 74, 55, 261, 264, 62, 1780, 29, 84, 784, 265]\n",
      "[15, 848, 9, 64, 89, 121, 404, 396, 65, 17]\n"
     ]
    }
   ],
   "source": [
    "#sanity check\n",
    "#those should NOT be the same\n",
    "print testData[0]\n",
    "print trainData[0]"
   ]
  },
  {
   "cell_type": "code",
   "execution_count": 9,
   "metadata": {},
   "outputs": [],
   "source": [
    "# A dictionary mapping words to an integer index\n",
    "word_index = json.load(open('libraryStemmed.json', 'r'))\n",
    "\n",
    "word_index[\"<PAD>\"] = 0\n",
    "word_index[\"<UNK>\"] = 1 # unknown\n",
    "\n",
    "reverse_word_index = dict([(value, key) for (key, value) in word_index.items()])\n",
    "\n",
    "#function that decodes array of numbers into original requirement tezt\n",
    "def decode_requirement(text):\n",
    "    return ' '.join([reverse_word_index.get(i, '?') for i in text])"
   ]
  },
  {
   "cell_type": "code",
   "execution_count": 10,
   "metadata": {},
   "outputs": [
    {
     "name": "stdout",
     "output_type": "stream",
     "text": [
      "patient alreadi system select new search menu begin enter inform\n",
      "0\n"
     ]
    }
   ],
   "source": [
    "print(decode_requirement(trainData[0]))\n",
    "print(trainLabels[0])"
   ]
  },
  {
   "cell_type": "code",
   "execution_count": 11,
   "metadata": {},
   "outputs": [],
   "source": [
    "#Preprocessing train and test datasets to have equal max-length\n",
    "#since vector multiplication only works with the vectors of equal lengths\n",
    "#Optimal length is 32 (by trial and error)\n",
    "trainData = keras.preprocessing.sequence.pad_sequences(trainData,\n",
    "                                                        value=word_index[\"<PAD>\"],\n",
    "                                                        padding='post',\n",
    "                                                        maxlen=32)\n",
    "\n",
    "testData = keras.preprocessing.sequence.pad_sequences(testData,\n",
    "                                                       value=word_index[\"<PAD>\"],\n",
    "                                                       padding='post',\n",
    "                                                       maxlen=32)"
   ]
  },
  {
   "cell_type": "code",
   "execution_count": 12,
   "metadata": {},
   "outputs": [
    {
     "name": "stdout",
     "output_type": "stream",
     "text": [
      "_________________________________________________________________\n",
      "Layer (type)                 Output Shape              Param #   \n",
      "=================================================================\n",
      "embedding (Embedding)        (None, None, 16)          32080     \n",
      "_________________________________________________________________\n",
      "global_average_pooling1d (Gl (None, 16)                0         \n",
      "_________________________________________________________________\n",
      "dense (Dense)                (None, 16)                272       \n",
      "_________________________________________________________________\n",
      "dense_1 (Dense)              (None, 1)                 17        \n",
      "=================================================================\n",
      "Total params: 32,369\n",
      "Trainable params: 32,369\n",
      "Non-trainable params: 0\n",
      "_________________________________________________________________\n"
     ]
    }
   ],
   "source": [
    "#even though there are ~3000 unique stemmed words in the dataset,\n",
    "#we use only first 2000 (excluding stopwords) in order to not mislead the model\n",
    "#with rare occuring words\n",
    "vocab_size = 2005\n",
    "\n",
    "model = keras.Sequential()\n",
    "model.add(keras.layers.Embedding(vocab_size, 16))\n",
    "model.add(keras.layers.GlobalAveragePooling1D())\n",
    "model.add(keras.layers.Dense(16, activation=tf.nn.relu))\n",
    "model.add(keras.layers.Dense(1, activation=tf.nn.sigmoid))\n",
    "\n",
    "model.summary()"
   ]
  },
  {
   "cell_type": "code",
   "execution_count": 13,
   "metadata": {},
   "outputs": [],
   "source": [
    "model.compile(optimizer=tf.train.AdamOptimizer(),\n",
    "              loss='binary_crossentropy',\n",
    "              metrics=['accuracy'])"
   ]
  },
  {
   "cell_type": "code",
   "execution_count": 14,
   "metadata": {},
   "outputs": [],
   "source": [
    "#We take as many samples for training as we can\n",
    "#In this case, we only leave 250 for validation set\n",
    "x_val = trainData[250:]\n",
    "partial_x_train = trainData[:250]\n",
    "\n",
    "y_val = trainLabels[250:]\n",
    "partial_y_train = trainLabels[:250]"
   ]
  },
  {
   "cell_type": "code",
   "execution_count": 15,
   "metadata": {},
   "outputs": [],
   "source": [
    "#Sanity check\n",
    "#This should produce accuracy of around .5\n",
    "#print(model.evaluate(testData, testLabels))"
   ]
  },
  {
   "cell_type": "code",
   "execution_count": 16,
   "metadata": {
    "scrolled": false
   },
   "outputs": [
    {
     "name": "stdout",
     "output_type": "stream",
     "text": [
      "Train on 250 samples, validate on 66 samples\n",
      "Epoch 1/50\n",
      "250/250 [==============================] - 1s 3ms/step - loss: 0.6928 - acc: 0.5200 - val_loss: 0.6910 - val_acc: 0.4697\n",
      "Epoch 2/50\n",
      "250/250 [==============================] - 0s 100us/step - loss: 0.6870 - acc: 0.5360 - val_loss: 0.6861 - val_acc: 0.5909\n",
      "Epoch 3/50\n",
      "250/250 [==============================] - 0s 94us/step - loss: 0.6811 - acc: 0.7200 - val_loss: 0.6813 - val_acc: 0.8333\n",
      "Epoch 4/50\n",
      "250/250 [==============================] - 0s 118us/step - loss: 0.6746 - acc: 0.8720 - val_loss: 0.6756 - val_acc: 0.9091\n",
      "Epoch 5/50\n",
      "250/250 [==============================] - 0s 98us/step - loss: 0.6666 - acc: 0.8880 - val_loss: 0.6687 - val_acc: 0.9242\n",
      "Epoch 6/50\n",
      "250/250 [==============================] - 0s 99us/step - loss: 0.6572 - acc: 0.9080 - val_loss: 0.6605 - val_acc: 0.9091\n",
      "Epoch 7/50\n",
      "250/250 [==============================] - 0s 98us/step - loss: 0.6462 - acc: 0.9160 - val_loss: 0.6510 - val_acc: 0.9091\n",
      "Epoch 8/50\n",
      "250/250 [==============================] - 0s 100us/step - loss: 0.6336 - acc: 0.9240 - val_loss: 0.6401 - val_acc: 0.9242\n",
      "Epoch 9/50\n",
      "250/250 [==============================] - 0s 99us/step - loss: 0.6192 - acc: 0.9400 - val_loss: 0.6264 - val_acc: 0.9242\n",
      "Epoch 10/50\n",
      "250/250 [==============================] - 0s 99us/step - loss: 0.6014 - acc: 0.9480 - val_loss: 0.6109 - val_acc: 0.9242\n",
      "Epoch 11/50\n",
      "250/250 [==============================] - 0s 101us/step - loss: 0.5818 - acc: 0.9520 - val_loss: 0.5935 - val_acc: 0.9394\n",
      "Epoch 12/50\n",
      "250/250 [==============================] - 0s 102us/step - loss: 0.5599 - acc: 0.9600 - val_loss: 0.5748 - val_acc: 0.9394\n",
      "Epoch 13/50\n",
      "250/250 [==============================] - 0s 100us/step - loss: 0.5369 - acc: 0.9560 - val_loss: 0.5546 - val_acc: 0.9242\n",
      "Epoch 14/50\n",
      "250/250 [==============================] - 0s 106us/step - loss: 0.5118 - acc: 0.9560 - val_loss: 0.5338 - val_acc: 0.9242\n",
      "Epoch 15/50\n",
      "250/250 [==============================] - 0s 108us/step - loss: 0.4863 - acc: 0.9560 - val_loss: 0.5126 - val_acc: 0.9242\n",
      "Epoch 16/50\n",
      "250/250 [==============================] - 0s 101us/step - loss: 0.4601 - acc: 0.9600 - val_loss: 0.4891 - val_acc: 0.9242\n",
      "Epoch 17/50\n",
      "250/250 [==============================] - 0s 105us/step - loss: 0.4317 - acc: 0.9520 - val_loss: 0.4658 - val_acc: 0.9091\n",
      "Epoch 18/50\n",
      "250/250 [==============================] - 0s 102us/step - loss: 0.4039 - acc: 0.9520 - val_loss: 0.4432 - val_acc: 0.8939\n",
      "Epoch 19/50\n",
      "250/250 [==============================] - 0s 102us/step - loss: 0.3772 - acc: 0.9560 - val_loss: 0.4217 - val_acc: 0.8939\n",
      "Epoch 20/50\n",
      "250/250 [==============================] - 0s 101us/step - loss: 0.3511 - acc: 0.9560 - val_loss: 0.4016 - val_acc: 0.8939\n",
      "Epoch 21/50\n",
      "250/250 [==============================] - 0s 103us/step - loss: 0.3277 - acc: 0.9560 - val_loss: 0.3828 - val_acc: 0.9091\n",
      "Epoch 22/50\n",
      "250/250 [==============================] - 0s 101us/step - loss: 0.3040 - acc: 0.9560 - val_loss: 0.3665 - val_acc: 0.8939\n",
      "Epoch 23/50\n",
      "250/250 [==============================] - 0s 101us/step - loss: 0.2830 - acc: 0.9560 - val_loss: 0.3506 - val_acc: 0.8939\n",
      "Epoch 24/50\n",
      "250/250 [==============================] - 0s 101us/step - loss: 0.2635 - acc: 0.9600 - val_loss: 0.3365 - val_acc: 0.8939\n",
      "Epoch 25/50\n",
      "250/250 [==============================] - 0s 98us/step - loss: 0.2450 - acc: 0.9600 - val_loss: 0.3231 - val_acc: 0.9091\n",
      "Epoch 26/50\n",
      "250/250 [==============================] - 0s 106us/step - loss: 0.2286 - acc: 0.9640 - val_loss: 0.3114 - val_acc: 0.9091\n",
      "Epoch 27/50\n",
      "250/250 [==============================] - 0s 109us/step - loss: 0.2135 - acc: 0.9640 - val_loss: 0.3011 - val_acc: 0.9091\n",
      "Epoch 28/50\n",
      "250/250 [==============================] - 0s 112us/step - loss: 0.1992 - acc: 0.9640 - val_loss: 0.2933 - val_acc: 0.9242\n",
      "Epoch 29/50\n",
      "250/250 [==============================] - 0s 111us/step - loss: 0.1868 - acc: 0.9640 - val_loss: 0.2853 - val_acc: 0.9242\n",
      "Epoch 30/50\n",
      "250/250 [==============================] - 0s 110us/step - loss: 0.1749 - acc: 0.9640 - val_loss: 0.2768 - val_acc: 0.9242\n",
      "Epoch 31/50\n",
      "250/250 [==============================] - 0s 104us/step - loss: 0.1644 - acc: 0.9720 - val_loss: 0.2699 - val_acc: 0.9242\n",
      "Epoch 32/50\n",
      "250/250 [==============================] - 0s 105us/step - loss: 0.1546 - acc: 0.9720 - val_loss: 0.2631 - val_acc: 0.9242\n",
      "Epoch 33/50\n",
      "250/250 [==============================] - 0s 141us/step - loss: 0.1455 - acc: 0.9720 - val_loss: 0.2573 - val_acc: 0.9242\n",
      "Epoch 34/50\n",
      "250/250 [==============================] - 0s 115us/step - loss: 0.1371 - acc: 0.9720 - val_loss: 0.2530 - val_acc: 0.9394\n",
      "Epoch 35/50\n",
      "250/250 [==============================] - 0s 97us/step - loss: 0.1298 - acc: 0.9720 - val_loss: 0.2507 - val_acc: 0.9242\n",
      "Epoch 36/50\n",
      "250/250 [==============================] - 0s 113us/step - loss: 0.1225 - acc: 0.9760 - val_loss: 0.2444 - val_acc: 0.9545\n",
      "Epoch 37/50\n",
      "250/250 [==============================] - 0s 114us/step - loss: 0.1162 - acc: 0.9760 - val_loss: 0.2388 - val_acc: 0.9545\n",
      "Epoch 38/50\n",
      "250/250 [==============================] - 0s 120us/step - loss: 0.1095 - acc: 0.9760 - val_loss: 0.2379 - val_acc: 0.9545\n",
      "Epoch 39/50\n",
      "250/250 [==============================] - 0s 99us/step - loss: 0.1040 - acc: 0.9800 - val_loss: 0.2353 - val_acc: 0.9545\n",
      "Epoch 40/50\n",
      "250/250 [==============================] - 0s 117us/step - loss: 0.0984 - acc: 0.9800 - val_loss: 0.2322 - val_acc: 0.9545\n",
      "Epoch 41/50\n",
      "250/250 [==============================] - 0s 102us/step - loss: 0.0934 - acc: 0.9840 - val_loss: 0.2288 - val_acc: 0.9545\n",
      "Epoch 42/50\n",
      "250/250 [==============================] - 0s 119us/step - loss: 0.0888 - acc: 0.9840 - val_loss: 0.2261 - val_acc: 0.9545\n",
      "Epoch 43/50\n",
      "250/250 [==============================] - 0s 118us/step - loss: 0.0842 - acc: 0.9840 - val_loss: 0.2226 - val_acc: 0.9545\n",
      "Epoch 44/50\n",
      "250/250 [==============================] - 0s 116us/step - loss: 0.0805 - acc: 0.9840 - val_loss: 0.2218 - val_acc: 0.9545\n",
      "Epoch 45/50\n",
      "250/250 [==============================] - 0s 133us/step - loss: 0.0762 - acc: 0.9840 - val_loss: 0.2185 - val_acc: 0.9545\n",
      "Epoch 46/50\n",
      "250/250 [==============================] - 0s 108us/step - loss: 0.0727 - acc: 0.9840 - val_loss: 0.2155 - val_acc: 0.9545\n",
      "Epoch 47/50\n",
      "250/250 [==============================] - 0s 98us/step - loss: 0.0693 - acc: 0.9840 - val_loss: 0.2131 - val_acc: 0.9545\n",
      "Epoch 48/50\n",
      "250/250 [==============================] - 0s 123us/step - loss: 0.0660 - acc: 0.9840 - val_loss: 0.2156 - val_acc: 0.9545\n",
      "Epoch 49/50\n",
      "250/250 [==============================] - 0s 116us/step - loss: 0.0627 - acc: 0.9840 - val_loss: 0.2141 - val_acc: 0.9545\n",
      "Epoch 50/50\n",
      "250/250 [==============================] - 0s 120us/step - loss: 0.0603 - acc: 0.9840 - val_loss: 0.2093 - val_acc: 0.9545\n"
     ]
    }
   ],
   "source": [
    "history = model.fit(partial_x_train,\n",
    "                    partial_y_train,\n",
    "                    epochs=50,\n",
    "                    batch_size=32,\n",
    "                    validation_data=(x_val, y_val),\n",
    "                    verbose=1)"
   ]
  },
  {
   "cell_type": "code",
   "execution_count": 17,
   "metadata": {},
   "outputs": [
    {
     "name": "stdout",
     "output_type": "stream",
     "text": [
      "100/100 [==============================] - 0s 62us/step\n",
      "[0.15726176097989084, 0.93]\n"
     ]
    }
   ],
   "source": [
    "#Evalueating model on the testset\n",
    "print(model.evaluate(testData, testLabels))"
   ]
  },
  {
   "cell_type": "code",
   "execution_count": 18,
   "metadata": {},
   "outputs": [
    {
     "data": {
      "text/plain": [
       "['acc', 'loss', 'val_acc', 'val_loss']"
      ]
     },
     "execution_count": 18,
     "metadata": {},
     "output_type": "execute_result"
    }
   ],
   "source": [
    "#The rest of the notebook helps vidualize losses and accuracies by ploting two separate grophs\n",
    "history_dict = history.history\n",
    "history_dict.keys()"
   ]
  },
  {
   "cell_type": "code",
   "execution_count": 19,
   "metadata": {},
   "outputs": [
    {
     "data": {
      "image/png": "[encoded data removed]",
      "text/plain": [
       "<Figure size 432x288 with 1 Axes>"
      ]
     },
     "metadata": {
      "needs_background": "light"
     },
     "output_type": "display_data"
    }
   ],
   "source": [
    "acc = history.history['acc']\n",
    "val_acc = history.history['val_acc']\n",
    "loss = history.history['loss']\n",
    "val_loss = history.history['val_loss']\n",
    "\n",
    "epochs = range(1, len(acc) + 1)\n",
    "\n",
    "# \"bo\" is for \"blue dot\"\n",
    "plt.plot(epochs, loss, 'bo', label='Training loss')\n",
    "# b is for \"solid blue line\"\n",
    "plt.plot(epochs, val_loss, 'b', label='Validation loss')\n",
    "plt.title('Training and validation loss')\n",
    "plt.xlabel('Epochs')\n",
    "plt.ylabel('Loss')\n",
    "plt.legend()\n",
    "\n",
    "plt.show()"
   ]
  },
  {
   "cell_type": "code",
   "execution_count": 20,
   "metadata": {},
   "outputs": [
    {
     "data": {
      "image/png": "[encoded data removed]",
      "text/plain": [
       "<Figure size 432x288 with 1 Axes>"
      ]
     },
     "metadata": {
      "needs_background": "light"
     },
     "output_type": "display_data"
    }
   ],
   "source": [
    "plt.clf() #clear figure\n",
    "acc_values = history_dict['acc']\n",
    "val_acc_values = history_dict['val_acc']\n",
    "\n",
    "plt.plot(epochs, acc, 'bo', label='Training acc')\n",
    "plt.plot(epochs, val_acc, 'b', label='Validation acc')\n",
    "plt.title('Training and validation accuracy')\n",
    "plt.xlabel('Epochs')\n",
    "plt.ylabel('Accuracy')\n",
    "plt.legend()\n",
    "\n",
    "plt.show()"
   ]
  }
 ],
 "metadata": {
  "kernelspec": {
   "display_name": "Python 2",
   "language": "python",
   "name": "python2"
  },
  "language_info": {
   "codemirror_mode": {
    "name": "ipython",
    "version": 2
   },
   "file_extension": ".py",
   "mimetype": "text/x-python",
   "name": "python",
   "nbconvert_exporter": "python",
   "pygments_lexer": "ipython2",
   "version": "2.7.12"
  }
 },
 "nbformat": 4,
 "nbformat_minor": 2
}
