{
 "cells": [
  {
   "cell_type": "code",
   "execution_count": 1,
   "metadata": {},
   "outputs": [],
   "source": [
    "#Partially adopted from Tensorflow/docs/basic_text_classification\n",
    "\n",
    "#https://github.com/tensorflow/docs/blob/master/site/en/tutorials/keras/basic_text_classification.ipynb"
   ]
  },
  {
   "cell_type": "code",
   "execution_count": 2,
   "metadata": {},
   "outputs": [
    {
     "name": "stdout",
     "output_type": "stream",
     "text": [
      "1.11.0\n",
      "[nltk_data] Downloading package punkt to /root/nltk_data...\n",
      "[nltk_data]   Package punkt is already up-to-date!\n"
     ]
    }
   ],
   "source": [
    "import tensorflow as tf\n",
    "from tensorflow import keras\n",
    "from sklearn.utils import shuffle\n",
    "import matplotlib.pyplot as plt\n",
    "\n",
    "import numpy as np\n",
    "\n",
    "print(tf.__version__)\n",
    "\n",
    "import nltk\n",
    "nltk.download('punkt')\n",
    "from nltk import word_tokenize\n",
    "stemmer = nltk.stem.SnowballStemmer('english')"
   ]
  },
  {
   "cell_type": "code",
   "execution_count": 3,
   "metadata": {},
   "outputs": [],
   "source": [
    "#MAPPING SENTENCES TO LIBRARY\n",
    "import json\n",
    "\n",
    "#declare trainData as an empty list\n",
    "trainData = []\n",
    "trainLabels = []\n",
    "\n",
    "#counters\n",
    "security = 0\n",
    "other = 0\n",
    "    \n",
    "#temp list for each sentence\n",
    "tempList = []\n",
    "\n",
    "#Keeping track of used requirement statements\n",
    "used = []\n",
    "\n",
    "#this is the number of unique privacy requirements in the data\n",
    "LIMIT = 270\n",
    "\n",
    "with open(\"Consolidated_data.txt\",\"r\") as f, open(\"libraryStemmed.json\", \"r\") as l:\n",
    "    data = json.load(l)\n",
    "\n",
    "    #Go line by line in original data file\n",
    "    for line in f:\n",
    "        #find where class begins\n",
    "        front = line.find(\"\\\"class\\\":\\\"\")\n",
    "        #find where class ends (where sentence begins)\n",
    "        end = line.find(\"\\\",\\\"sentence\\\":\\\"\")\n",
    "        #substring line based on front and end above\n",
    "        reqClass = (line[(front+9):end]).lower()\n",
    "\n",
    "        #sentence\n",
    "        del tempList[:]\n",
    "        temp = line.find(\"\\\"sentence\\\":\\\"\")\n",
    "        sentence = (line[(temp+12):-4]).lower()\n",
    "        sentence = sentence.translate(None, '.,-\\\":;~!@#$%^&?[]{}<>`1234567890\\\\*()').strip()\n",
    "        \n",
    "        if \"security\" in reqClass and (security < LIMIT):\n",
    "            #if it was already used, disregard it\n",
    "            if sentence in used:\n",
    "                continue\n",
    "            used.append(sentence)\n",
    "            security +=1\n",
    "            trainLabels.append(1)\n",
    "            for x in sentence.split(' '):\n",
    "                x = unicode(x, 'utf-8')\n",
    "                x = stemmer.stem(x)\n",
    "                if x in data:\n",
    "                    tempList.append(data[x])\n",
    "                #else:\n",
    "                    #tempList.append(1)\n",
    "            trainData.append(tempList[:])\n",
    "        else:\n",
    "            if (other < LIMIT):\n",
    "                #if it was already used, disregard it\n",
    "                if sentence in used:\n",
    "                    continue\n",
    "                used.append(sentence)\n",
    "                other +=1\n",
    "                trainLabels.append(0)\n",
    "                for x in sentence.split(' '):\n",
    "                    x = unicode(x, 'utf-8')\n",
    "                    x = stemmer.stem(x)\n",
    "                    if x in data:\n",
    "                        tempList.append(data[x])\n",
    "                    #else:\n",
    "                        #tempList.append(1)\n",
    "                trainData.append(tempList[:])\n",
    "                \n"
   ]
  },
  {
   "cell_type": "code",
   "execution_count": 4,
   "metadata": {},
   "outputs": [],
   "source": [
    "#randomizing data in two arrays without disrupting the order\n",
    "trainData, trainLabels = shuffle(trainData, trainLabels)"
   ]
  },
  {
   "cell_type": "code",
   "execution_count": 5,
   "metadata": {},
   "outputs": [],
   "source": [
    "#Taking a chunk of test data from the main dataset\n",
    "testData = []\n",
    "testLabels = []\n",
    "\n",
    "#keeping track of how many requirements of each type there are\n",
    "nonfunctional = 0\n",
    "functional = 0\n",
    "\n",
    "#this number represents of how many func. and nonfunc. requirements\n",
    "#will be chopped off the training dataset\n",
    "#(total is multiplied by 2)\n",
    "testDataNumber = 50\n",
    "\n",
    "for x in trainLabels:\n",
    "    if x == 1 and functional < testDataNumber:\n",
    "        functional += 1\n",
    "        testData.append(trainData.pop(0))\n",
    "        testLabels.append(trainLabels.pop(0))\n",
    "    elif x == 0 and nonfunctional < testDataNumber:\n",
    "        nonfunctional += 1\n",
    "        testData.append(trainData.pop(0))\n",
    "        testLabels.append(trainLabels.pop(0))"
   ]
  },
  {
   "cell_type": "code",
   "execution_count": 6,
   "metadata": {},
   "outputs": [
    {
     "name": "stdout",
     "output_type": "stream",
     "text": [
      "217\n",
      "223\n",
      "53\n",
      "47\n"
     ]
    }
   ],
   "source": [
    "#sanity check\n",
    "#checking if there is more of less an even amount of func. and nonfunc. requirements in both datasets\n",
    "print(trainLabels.count(1))\n",
    "print(trainLabels.count(0))\n",
    "print(testLabels.count(1))\n",
    "print(testLabels.count(0))"
   ]
  },
  {
   "cell_type": "code",
   "execution_count": 7,
   "metadata": {},
   "outputs": [],
   "source": [
    "#randomizing data in two arrays without disrupting the order\n",
    "testData, testLabels = shuffle(testData, testLabels)"
   ]
  },
  {
   "cell_type": "code",
   "execution_count": 8,
   "metadata": {},
   "outputs": [
    {
     "name": "stdout",
     "output_type": "stream",
     "text": [
      "[9, 55, 197, 1955, 479, 24, 83, 228, 173, 698]\n",
      "[122, 504, 233, 77, 96, 17, 9, 103, 96, 38, 23, 17, 83, 52, 105, 75, 452, 189, 674, 52, 208, 149]\n"
     ]
    }
   ],
   "source": [
    "#sanity check\n",
    "#those should NOT be the same\n",
    "print testData[0]\n",
    "print trainData[0]"
   ]
  },
  {
   "cell_type": "code",
   "execution_count": 9,
   "metadata": {},
   "outputs": [],
   "source": [
    "# A dictionary mapping words to an integer index\n",
    "word_index = json.load(open('libraryStemmed.json', 'r'))\n",
    "\n",
    "word_index[\"<PAD>\"] = 0\n",
    "word_index[\"<UNK>\"] = 1 # unknown\n",
    "\n",
    "reverse_word_index = dict([(value, key) for (key, value) in word_index.items()])\n",
    "\n",
    "#function that decodes array of numbers into original requirement tezt\n",
    "def decode_requirement(text):\n",
    "    return ' '.join([reverse_word_index.get(i, '?') for i in text])"
   ]
  },
  {
   "cell_type": "code",
   "execution_count": 10,
   "metadata": {},
   "outputs": [
    {
     "name": "stdout",
     "output_type": "stream",
     "text": [
      "implement technic polici procedur electron inform system maintain electron protect health inform allow access onli person softwar program grant access right specifi\n",
      "0\n"
     ]
    }
   ],
   "source": [
    "print(decode_requirement(trainData[0]))\n",
    "print(trainLabels[0])"
   ]
  },
  {
   "cell_type": "code",
   "execution_count": 11,
   "metadata": {},
   "outputs": [],
   "source": [
    "#Preprocessing train and test datasets to have equal max-length\n",
    "#since vector multiplication only works with the vectors of equal lengths\n",
    "#Optimal length is 32 (by trial and error)\n",
    "trainData = keras.preprocessing.sequence.pad_sequences(trainData,\n",
    "                                                        value=word_index[\"<PAD>\"],\n",
    "                                                        padding='post',\n",
    "                                                        maxlen=32)\n",
    "\n",
    "testData = keras.preprocessing.sequence.pad_sequences(testData,\n",
    "                                                       value=word_index[\"<PAD>\"],\n",
    "                                                       padding='post',\n",
    "                                                       maxlen=32)"
   ]
  },
  {
   "cell_type": "code",
   "execution_count": 12,
   "metadata": {},
   "outputs": [
    {
     "name": "stdout",
     "output_type": "stream",
     "text": [
      "_________________________________________________________________\n",
      "Layer (type)                 Output Shape              Param #   \n",
      "=================================================================\n",
      "embedding (Embedding)        (None, None, 16)          32080     \n",
      "_________________________________________________________________\n",
      "global_average_pooling1d (Gl (None, 16)                0         \n",
      "_________________________________________________________________\n",
      "dense (Dense)                (None, 16)                272       \n",
      "_________________________________________________________________\n",
      "dense_1 (Dense)              (None, 1)                 17        \n",
      "=================================================================\n",
      "Total params: 32,369\n",
      "Trainable params: 32,369\n",
      "Non-trainable params: 0\n",
      "_________________________________________________________________\n"
     ]
    }
   ],
   "source": [
    "#even though there are ~3000 unique stemmed words in the dataset,\n",
    "#we use only first 2000 (excluding stopwords) in order to not mislead the model\n",
    "#with rare occuring words\n",
    "vocab_size = 2005\n",
    "\n",
    "model = keras.Sequential()\n",
    "model.add(keras.layers.Embedding(vocab_size, 16))\n",
    "model.add(keras.layers.GlobalAveragePooling1D())\n",
    "model.add(keras.layers.Dense(16, activation=tf.nn.relu))\n",
    "model.add(keras.layers.Dense(1, activation=tf.nn.sigmoid))\n",
    "\n",
    "model.summary()"
   ]
  },
  {
   "cell_type": "code",
   "execution_count": 13,
   "metadata": {},
   "outputs": [],
   "source": [
    "model.compile(optimizer=tf.train.AdamOptimizer(),\n",
    "              loss='binary_crossentropy',\n",
    "              metrics=['accuracy'])"
   ]
  },
  {
   "cell_type": "code",
   "execution_count": 14,
   "metadata": {},
   "outputs": [],
   "source": [
    "#We take as many samples for training as we can\n",
    "#In this case, we only leave 340 for validation set\n",
    "x_val = trainData[340:]\n",
    "partial_x_train = trainData[:340]\n",
    "\n",
    "y_val = trainLabels[340:]\n",
    "partial_y_train = trainLabels[:340]"
   ]
  },
  {
   "cell_type": "code",
   "execution_count": 15,
   "metadata": {},
   "outputs": [],
   "source": [
    "#Sanity check\n",
    "#This should produce accuracy of around .5\n",
    "#print(model.evaluate(testData, testLabels))"
   ]
  },
  {
   "cell_type": "code",
   "execution_count": 16,
   "metadata": {
    "scrolled": false
   },
   "outputs": [
    {
     "name": "stdout",
     "output_type": "stream",
     "text": [
      "Train on 340 samples, validate on 100 samples\n",
      "Epoch 1/50\n",
      "340/340 [==============================] - 1s 2ms/step - loss: 0.6934 - acc: 0.5265 - val_loss: 0.6920 - val_acc: 0.7300\n",
      "Epoch 2/50\n",
      "340/340 [==============================] - 0s 94us/step - loss: 0.6907 - acc: 0.6559 - val_loss: 0.6910 - val_acc: 0.4800\n",
      "Epoch 3/50\n",
      "340/340 [==============================] - 0s 105us/step - loss: 0.6875 - acc: 0.5824 - val_loss: 0.6895 - val_acc: 0.4700\n",
      "Epoch 4/50\n",
      "340/340 [==============================] - 0s 95us/step - loss: 0.6837 - acc: 0.6176 - val_loss: 0.6873 - val_acc: 0.5100\n",
      "Epoch 5/50\n",
      "340/340 [==============================] - 0s 93us/step - loss: 0.6789 - acc: 0.6706 - val_loss: 0.6839 - val_acc: 0.5600\n",
      "Epoch 6/50\n",
      "340/340 [==============================] - 0s 90us/step - loss: 0.6731 - acc: 0.6824 - val_loss: 0.6799 - val_acc: 0.5800\n",
      "Epoch 7/50\n",
      "340/340 [==============================] - 0s 92us/step - loss: 0.6652 - acc: 0.7324 - val_loss: 0.6738 - val_acc: 0.6100\n",
      "Epoch 8/50\n",
      "340/340 [==============================] - 0s 91us/step - loss: 0.6554 - acc: 0.8118 - val_loss: 0.6655 - val_acc: 0.6900\n",
      "Epoch 9/50\n",
      "340/340 [==============================] - 0s 94us/step - loss: 0.6431 - acc: 0.8353 - val_loss: 0.6562 - val_acc: 0.7500\n",
      "Epoch 10/50\n",
      "340/340 [==============================] - 0s 97us/step - loss: 0.6275 - acc: 0.8706 - val_loss: 0.6433 - val_acc: 0.7900\n",
      "Epoch 11/50\n",
      "340/340 [==============================] - 0s 96us/step - loss: 0.6077 - acc: 0.8794 - val_loss: 0.6293 - val_acc: 0.8000\n",
      "Epoch 12/50\n",
      "340/340 [==============================] - 0s 96us/step - loss: 0.5862 - acc: 0.8794 - val_loss: 0.6136 - val_acc: 0.8100\n",
      "Epoch 13/50\n",
      "340/340 [==============================] - 0s 94us/step - loss: 0.5607 - acc: 0.9000 - val_loss: 0.5891 - val_acc: 0.8600\n",
      "Epoch 14/50\n",
      "340/340 [==============================] - 0s 98us/step - loss: 0.5320 - acc: 0.9471 - val_loss: 0.5659 - val_acc: 0.8600\n",
      "Epoch 15/50\n",
      "340/340 [==============================] - 0s 97us/step - loss: 0.5028 - acc: 0.9147 - val_loss: 0.5480 - val_acc: 0.8500\n",
      "Epoch 16/50\n",
      "340/340 [==============================] - 0s 94us/step - loss: 0.4691 - acc: 0.9441 - val_loss: 0.5168 - val_acc: 0.8700\n",
      "Epoch 17/50\n",
      "340/340 [==============================] - 0s 95us/step - loss: 0.4349 - acc: 0.9500 - val_loss: 0.4964 - val_acc: 0.8600\n",
      "Epoch 18/50\n",
      "340/340 [==============================] - 0s 94us/step - loss: 0.4026 - acc: 0.9500 - val_loss: 0.4693 - val_acc: 0.8800\n",
      "Epoch 19/50\n",
      "340/340 [==============================] - 0s 94us/step - loss: 0.3695 - acc: 0.9500 - val_loss: 0.4518 - val_acc: 0.8600\n",
      "Epoch 20/50\n",
      "340/340 [==============================] - 0s 91us/step - loss: 0.3394 - acc: 0.9500 - val_loss: 0.4254 - val_acc: 0.8800\n",
      "Epoch 21/50\n",
      "340/340 [==============================] - 0s 95us/step - loss: 0.3110 - acc: 0.9559 - val_loss: 0.4021 - val_acc: 0.8700\n",
      "Epoch 22/50\n",
      "340/340 [==============================] - 0s 92us/step - loss: 0.2845 - acc: 0.9647 - val_loss: 0.3848 - val_acc: 0.8800\n",
      "Epoch 23/50\n",
      "340/340 [==============================] - 0s 94us/step - loss: 0.2607 - acc: 0.9588 - val_loss: 0.3738 - val_acc: 0.8800\n",
      "Epoch 24/50\n",
      "340/340 [==============================] - 0s 93us/step - loss: 0.2385 - acc: 0.9647 - val_loss: 0.3519 - val_acc: 0.8800\n",
      "Epoch 25/50\n",
      "340/340 [==============================] - 0s 95us/step - loss: 0.2187 - acc: 0.9765 - val_loss: 0.3398 - val_acc: 0.8900\n",
      "Epoch 26/50\n",
      "340/340 [==============================] - 0s 112us/step - loss: 0.2008 - acc: 0.9794 - val_loss: 0.3299 - val_acc: 0.8900\n",
      "Epoch 27/50\n",
      "340/340 [==============================] - 0s 96us/step - loss: 0.1850 - acc: 0.9765 - val_loss: 0.3216 - val_acc: 0.8800\n",
      "Epoch 28/50\n",
      "340/340 [==============================] - 0s 99us/step - loss: 0.1704 - acc: 0.9824 - val_loss: 0.3067 - val_acc: 0.8900\n",
      "Epoch 29/50\n",
      "340/340 [==============================] - 0s 115us/step - loss: 0.1571 - acc: 0.9853 - val_loss: 0.2995 - val_acc: 0.8900\n",
      "Epoch 30/50\n",
      "340/340 [==============================] - 0s 109us/step - loss: 0.1453 - acc: 0.9853 - val_loss: 0.2947 - val_acc: 0.8900\n",
      "Epoch 31/50\n",
      "340/340 [==============================] - 0s 93us/step - loss: 0.1347 - acc: 0.9853 - val_loss: 0.2837 - val_acc: 0.9000\n",
      "Epoch 32/50\n",
      "340/340 [==============================] - 0s 114us/step - loss: 0.1247 - acc: 0.9853 - val_loss: 0.2812 - val_acc: 0.9000\n",
      "Epoch 33/50\n",
      "340/340 [==============================] - 0s 93us/step - loss: 0.1158 - acc: 0.9853 - val_loss: 0.2733 - val_acc: 0.9000\n",
      "Epoch 34/50\n",
      "340/340 [==============================] - 0s 109us/step - loss: 0.1080 - acc: 0.9882 - val_loss: 0.2678 - val_acc: 0.9000\n",
      "Epoch 35/50\n",
      "340/340 [==============================] - 0s 104us/step - loss: 0.1006 - acc: 0.9912 - val_loss: 0.2641 - val_acc: 0.8900\n",
      "Epoch 36/50\n",
      "340/340 [==============================] - 0s 109us/step - loss: 0.0940 - acc: 0.9882 - val_loss: 0.2646 - val_acc: 0.9000\n",
      "Epoch 37/50\n",
      "340/340 [==============================] - 0s 101us/step - loss: 0.0891 - acc: 0.9912 - val_loss: 0.2559 - val_acc: 0.8900\n",
      "Epoch 38/50\n",
      "340/340 [==============================] - 0s 93us/step - loss: 0.0826 - acc: 0.9912 - val_loss: 0.2627 - val_acc: 0.9000\n",
      "Epoch 39/50\n",
      "340/340 [==============================] - 0s 106us/step - loss: 0.0768 - acc: 0.9912 - val_loss: 0.2519 - val_acc: 0.8900\n",
      "Epoch 40/50\n",
      "340/340 [==============================] - 0s 102us/step - loss: 0.0723 - acc: 0.9971 - val_loss: 0.2470 - val_acc: 0.8900\n",
      "Epoch 41/50\n",
      "340/340 [==============================] - 0s 102us/step - loss: 0.0679 - acc: 0.9971 - val_loss: 0.2512 - val_acc: 0.8900\n",
      "Epoch 42/50\n",
      "340/340 [==============================] - 0s 102us/step - loss: 0.0639 - acc: 0.9971 - val_loss: 0.2463 - val_acc: 0.8900\n",
      "Epoch 43/50\n",
      "340/340 [==============================] - 0s 104us/step - loss: 0.0613 - acc: 0.9971 - val_loss: 0.2424 - val_acc: 0.8900\n",
      "Epoch 44/50\n",
      "340/340 [==============================] - 0s 106us/step - loss: 0.0570 - acc: 0.9971 - val_loss: 0.2518 - val_acc: 0.9000\n",
      "Epoch 45/50\n",
      "340/340 [==============================] - 0s 106us/step - loss: 0.0536 - acc: 0.9971 - val_loss: 0.2458 - val_acc: 0.8900\n",
      "Epoch 46/50\n",
      "340/340 [==============================] - 0s 109us/step - loss: 0.0508 - acc: 0.9971 - val_loss: 0.2385 - val_acc: 0.8900\n",
      "Epoch 47/50\n",
      "340/340 [==============================] - 0s 114us/step - loss: 0.0479 - acc: 0.9971 - val_loss: 0.2421 - val_acc: 0.8900\n",
      "Epoch 48/50\n",
      "340/340 [==============================] - 0s 117us/step - loss: 0.0451 - acc: 0.9971 - val_loss: 0.2400 - val_acc: 0.8900\n",
      "Epoch 49/50\n",
      "340/340 [==============================] - 0s 98us/step - loss: 0.0428 - acc: 1.0000 - val_loss: 0.2438 - val_acc: 0.9000\n",
      "Epoch 50/50\n",
      "340/340 [==============================] - 0s 94us/step - loss: 0.0407 - acc: 1.0000 - val_loss: 0.2401 - val_acc: 0.9000\n"
     ]
    }
   ],
   "source": [
    "history = model.fit(partial_x_train,\n",
    "                    partial_y_train,\n",
    "                    epochs=50,\n",
    "                    batch_size=32,\n",
    "                    validation_data=(x_val, y_val),\n",
    "                    verbose=1)"
   ]
  },
  {
   "cell_type": "code",
   "execution_count": 17,
   "metadata": {},
   "outputs": [
    {
     "name": "stdout",
     "output_type": "stream",
     "text": [
      "100/100 [==============================] - 0s 81us/step\n",
      "[0.1847368597984314, 0.93]\n"
     ]
    }
   ],
   "source": [
    "#Evalueating model on the testset\n",
    "print(model.evaluate(testData, testLabels))"
   ]
  },
  {
   "cell_type": "code",
   "execution_count": 18,
   "metadata": {},
   "outputs": [
    {
     "data": {
      "text/plain": [
       "['acc', 'loss', 'val_acc', 'val_loss']"
      ]
     },
     "execution_count": 18,
     "metadata": {},
     "output_type": "execute_result"
    }
   ],
   "source": [
    "#The rest of the notebook helps vidualize losses and accuracies by ploting two separate grophs\n",
    "history_dict = history.history\n",
    "history_dict.keys()"
   ]
  },
  {
   "cell_type": "code",
   "execution_count": 19,
   "metadata": {},
   "outputs": [
    {
     "data": {
      "image/png": "[encoded data removed]",
      "text/plain": [
       "<Figure size 432x288 with 1 Axes>"
      ]
     },
     "metadata": {
      "needs_background": "light"
     },
     "output_type": "display_data"
    }
   ],
   "source": [
    "acc = history.history['acc']\n",
    "val_acc = history.history['val_acc']\n",
    "loss = history.history['loss']\n",
    "val_loss = history.history['val_loss']\n",
    "\n",
    "epochs = range(1, len(acc) + 1)\n",
    "\n",
    "# \"bo\" is for \"blue dot\"\n",
    "plt.plot(epochs, loss, 'bo', label='Training loss')\n",
    "# b is for \"solid blue line\"\n",
    "plt.plot(epochs, val_loss, 'b', label='Validation loss')\n",
    "plt.title('Training and validation loss')\n",
    "plt.xlabel('Epochs')\n",
    "plt.ylabel('Loss')\n",
    "plt.legend()\n",
    "\n",
    "plt.show()"
   ]
  },
  {
   "cell_type": "code",
   "execution_count": 20,
   "metadata": {},
   "outputs": [
    {
     "data": {
      "image/png": "[encoded data removed]",
      "text/plain": [
       "<Figure size 432x288 with 1 Axes>"
      ]
     },
     "metadata": {
      "needs_background": "light"
     },
     "output_type": "display_data"
    }
   ],
   "source": [
    "plt.clf() #clear figure\n",
    "acc_values = history_dict['acc']\n",
    "val_acc_values = history_dict['val_acc']\n",
    "\n",
    "plt.plot(epochs, acc, 'bo', label='Training acc')\n",
    "plt.plot(epochs, val_acc, 'b', label='Validation acc')\n",
    "plt.title('Training and validation accuracy')\n",
    "plt.xlabel('Epochs')\n",
    "plt.ylabel('Accuracy')\n",
    "plt.legend()\n",
    "\n",
    "plt.show()"
   ]
  }
 ],
 "metadata": {
  "kernelspec": {
   "display_name": "Python 2",
   "language": "python",
   "name": "python2"
  },
  "language_info": {
   "codemirror_mode": {
    "name": "ipython",
    "version": 2
   },
   "file_extension": ".py",
   "mimetype": "text/x-python",
   "name": "python",
   "nbconvert_exporter": "python",
   "pygments_lexer": "ipython2",
   "version": "2.7.12"
  }
 },
 "nbformat": 4,
 "nbformat_minor": 2
}
