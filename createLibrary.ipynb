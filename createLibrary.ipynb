{
 "cells": [
  {
   "cell_type": "code",
   "execution_count": 16,
   "metadata": {
    "scrolled": true
   },
   "outputs": [
    {
     "name": "stdout",
     "output_type": "stream",
     "text": [
      "[nltk_data] Downloading package stopwords to /root/nltk_data...\n",
      "[nltk_data]   Package stopwords is already up-to-date!\n",
      "[nltk_data] Downloading package punkt to /root/nltk_data...\n",
      "[nltk_data]   Package punkt is already up-to-date!\n"
     ]
    }
   ],
   "source": [
    "from collections import Counter\n",
    "import json\n",
    "import nltk\n",
    "from nltk.corpus import stopwords\n",
    "nltk.download('stopwords')\n",
    "nltk.download('punkt')\n",
    "from nltk import word_tokenize\n",
    "sno = nltk.stem.SnowballStemmer('english')\n",
    "#nltk.download('stopwords')\n",
    "\n",
    "#data = open(\"Consolidated_data.txt\",\"r\") \n",
    "with open(\"Consolidated_data.txt\", \"r\") as f:\n",
    "    \n",
    "    #stopwords = set(stopwords.words('english'))\n",
    "    \n",
    "    #declare library as an empty list\n",
    "    library = []\n",
    "    \n",
    "    #count of word\n",
    "    count = 0\n",
    "    \n",
    "    stopWords = stopwords.words('english')\n",
    "    #print(stopWords)\n",
    "    \n",
    "    #read data-file line by line\n",
    "    for line in f:\n",
    "        #find \"sentence\":\" index\n",
    "        temp = line.find(\"\\\"sentence\\\":\\\"\")\n",
    "        \n",
    "        #substring from index of first quotation char in \"sentence\":\" +12\n",
    "        #to the end, not including last 3 characters, which are \"})\n",
    "        #lowercase all characters\n",
    "        newLine = (line[(temp+12):-4]).lower()\n",
    "        \n",
    "        #delete all unnecessary characters from a string\n",
    "        newLine = newLine.translate(None, '.,-\\\":;~!@#$%^&?[]{}<>`1234567890\\\\*()\\'').strip().split(' ')\n",
    "        \n",
    "        #unicode each value of the list separately\n",
    "        newLine = [unicode(i, 'utf-8') for i in newLine]\n",
    "        \n",
    "        \n",
    "        #stem all the words\n",
    "        stemmedLine = [sno.stem(i) for i in newLine]\n",
    "        \n",
    "        \n",
    "        library = library + stemmedLine\n",
    "    libraryy = []\n",
    "    for i in library:\n",
    "        i = i.encode('ascii', 'ignore')\n",
    "        libraryy.append(i)\n",
    "            \n",
    "    #print(libraryy)\n",
    "    counts = Counter(libraryy).most_common()\n",
    "    #print(counts[0])\n",
    "    libraryJSON = [{key: index+3} for (index, (key, i)) in enumerate(counts) if key not in stopWords]\n",
    "    #print(libraryJSON)\n",
    "        \n",
    "    libraryJSON = \"{\" + str(libraryJSON).translate(None, '}{[]') + \"}\"\n",
    "    libraryJSON = libraryJSON.replace('\\'', '\\\"')\n",
    "    #print(libraryJSON)\n",
    "#     with open('libraryStemmed2.json', 'w+') as l:\n",
    "#          l.write(libraryJSON)"
   ]
  },
  {
   "cell_type": "code",
   "execution_count": null,
   "metadata": {},
   "outputs": [],
   "source": []
  }
 ],
 "metadata": {
  "kernelspec": {
   "display_name": "Python 2",
   "language": "python",
   "name": "python2"
  },
  "language_info": {
   "codemirror_mode": {
    "name": "ipython",
    "version": 2
   },
   "file_extension": ".py",
   "mimetype": "text/x-python",
   "name": "python",
   "nbconvert_exporter": "python",
   "pygments_lexer": "ipython2",
   "version": "2.7.12"
  }
 },
 "nbformat": 4,
 "nbformat_minor": 2
}
