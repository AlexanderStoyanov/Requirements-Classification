{
 "cells": [
  {
   "cell_type": "code",
   "execution_count": 48,
   "metadata": {},
   "outputs": [
    {
     "name": "stdout",
     "output_type": "stream",
     "text": [
      "[24, 25, 23, 26, 27, 28, 29, 21, 30, 31, 32, 33, 29, 34, 35]\n"
     ]
    }
   ],
   "source": [
    "#MAPPING SENTENCES TO LIBRARY\n",
    "import json\n",
    "\n",
    "#declare trainData as an empty list\n",
    "trainData = []\n",
    "\n",
    "with open(\"Consolidated_data.txt\",\"r\") as f:\n",
    "    \n",
    "    #temp list for each sentence\n",
    "    tempList = []\n",
    "    \n",
    "    #read data-file line by line\n",
    "    for line in f:\n",
    "        #set tempList to empty for each new line\n",
    "        del tempList[:]\n",
    "        #find \"sentence\":\" index\n",
    "        temp = line.find(\"\\\"sentence\\\":\\\"\")\n",
    "        \n",
    "        #substring from index of first quotation char in \"sentence\":\" +12\n",
    "        #to the end, not including last 3 characters, which are \"})\n",
    "        #lowercase all characters\n",
    "        newLine = (line[(temp+12):-4]).lower()\n",
    "        \n",
    "        #delete all unnecessary characters and spaces from a string\n",
    "        newLine = newLine.translate(None, '.,-\\\":;~!@#$%^&?[]{}<>`1234567890\\\\*()').strip()\n",
    "        \n",
    "        \n",
    "        #load library\n",
    "        with open(\"library.json\", \"r\") as l:\n",
    "            data = json.load(l)\n",
    "            \n",
    "            #split each line into array of separate words\n",
    "            for x in newLine.split(' '):\n",
    "                #if the word in the library, append it to tempList\n",
    "                if x in data:\n",
    "                    tempList.append(data[x])\n",
    "            #after all words mapped to the library, append tempList to trainData\n",
    "            trainData.append(tempList[:])\n",
    "print trainData[2]"
   ]
  },
  {
   "cell_type": "code",
   "execution_count": 50,
   "metadata": {},
   "outputs": [
    {
     "name": "stdout",
     "output_type": "stream",
     "text": [
      "[29, 40, 41, 42, 43, 6, 44, 8, 45, 46, 47, 48, 49, 6, 50, 51, 52, 53, 54, 8, 55, 29, 56, 8, 57, 58]\n"
     ]
    }
   ],
   "source": [
    "print trainData[4]"
   ]
  },
  {
   "cell_type": "code",
   "execution_count": null,
   "metadata": {},
   "outputs": [],
   "source": []
  }
 ],
 "metadata": {
  "kernelspec": {
   "display_name": "Python 2",
   "language": "python",
   "name": "python2"
  },
  "language_info": {
   "codemirror_mode": {
    "name": "ipython",
    "version": 2
   },
   "file_extension": ".py",
   "mimetype": "text/x-python",
   "name": "python",
   "nbconvert_exporter": "python",
   "pygments_lexer": "ipython2",
   "version": "2.7.12"
  }
 },
 "nbformat": 4,
 "nbformat_minor": 2
}
