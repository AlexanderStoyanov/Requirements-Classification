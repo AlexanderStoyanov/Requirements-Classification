{
 "cells": [
  {
   "cell_type": "code",
   "execution_count": 14,
   "metadata": {},
   "outputs": [
    {
     "name": "stdout",
     "output_type": "stream",
     "text": [
      "0\n",
      "There are 4559 requirement statements\n",
      "Of which 1796 are functional\n",
      "And 2763 are nonfunctional\n"
     ]
    }
   ],
   "source": [
    "#SEPARATION OF REQUIREMENTS INTO FUNCTIONAL AND NON-FUNCTIONAL\n",
    "\n",
    "#declare trainLabels as an empty list\n",
    "trainLabels = []\n",
    "\n",
    "with open(\"Consolidated_data.txt\",\"r\") as f:\n",
    "    i = 0\n",
    "    for line in f:\n",
    "        \n",
    "        #find where class begins\n",
    "        front = line.find(\"\\\"class\\\":\\\"\")\n",
    "        \n",
    "        #find where class ends (where sentence begins)\n",
    "        end = line.find(\"\\\",\\\"sentence\\\":\\\"\")\n",
    "        \n",
    "        #substring line based on front and end above\n",
    "        reqClass = (line[(front+9):end]).lower()\n",
    "        if \"nonfunctional\" in reqClass:\n",
    "            trainLabels.append(0)\n",
    "        elif \"functional\" not in reqClass:\n",
    "            trainLabels.append(0)\n",
    "        else:\n",
    "            i+=1\n",
    "            trainLabels.append(1)\n",
    "        \n",
    "print trainLabels\n",
    "print \"There are \" + str(len(trainLabels)) + \" requirement statements\"\n",
    "print \"Of which \" + str(i) + \" are functional\"\n",
    "print \"And \" + str(len(trainLabels)-i) + \" are nonfunctional\""
   ]
  },
  {
   "cell_type": "code",
   "execution_count": null,
   "metadata": {},
   "outputs": [],
   "source": []
  }
 ],
 "metadata": {
  "kernelspec": {
   "display_name": "Python 2",
   "language": "python",
   "name": "python2"
  },
  "language_info": {
   "codemirror_mode": {
    "name": "ipython",
    "version": 2
   },
   "file_extension": ".py",
   "mimetype": "text/x-python",
   "name": "python",
   "nbconvert_exporter": "python",
   "pygments_lexer": "ipython2",
   "version": "2.7.12"
  }
 },
 "nbformat": 4,
 "nbformat_minor": 2
}
