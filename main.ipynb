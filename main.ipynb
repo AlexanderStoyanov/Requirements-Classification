{
 "cells": [
  {
   "cell_type": "code",
   "execution_count": 1,
   "metadata": {},
   "outputs": [
    {
     "name": "stdout",
     "output_type": "stream",
     "text": [
      "1.11.0\n",
      "[nltk_data] Downloading package punkt to /root/nltk_data...\n",
      "[nltk_data]   Package punkt is already up-to-date!\n"
     ]
    }
   ],
   "source": [
    "import tensorflow as tf\n",
    "from tensorflow import keras\n",
    "from sklearn.utils import shuffle\n",
    "import matplotlib.pyplot as plt\n",
    "\n",
    "import numpy as np\n",
    "\n",
    "print(tf.__version__)\n",
    "\n",
    "import nltk\n",
    "nltk.download('punkt')\n",
    "from nltk import word_tokenize\n",
    "sno = nltk.stem.SnowballStemmer('english')"
   ]
  },
  {
   "cell_type": "code",
   "execution_count": 2,
   "metadata": {},
   "outputs": [],
   "source": [
    "#MAPPING SENTENCES TO LIBRARY\n",
    "import json\n",
    "word_index = keras.datasets.imdb.get_word_index()\n",
    "\n",
    "#declare trainData as an empty list\n",
    "trainData = []\n",
    "trainLabels = []\n",
    "\n",
    "nonfunctional = 0\n",
    "functional = 0\n",
    "    \n",
    "#temp list for each sentence\n",
    "tempList = []\n",
    "\n",
    "func = []\n",
    "nonfunc = []\n",
    "\n",
    "#this is the number of unique requirements in the data\n",
    "STOP = 1300\n",
    "\n",
    "with open(\"Consolidated_data.txt\",\"r\") as f:\n",
    "    \n",
    "    \n",
    "    #read data-file line by line\n",
    "    with open(\"libraryStemmed2.json\", \"r\") as l:\n",
    "        data = json.load(l)\n",
    "        \n",
    "        \n",
    "        for line in f:\n",
    "            #find where class begins\n",
    "            front = line.find(\"\\\"class\\\":\\\"\")\n",
    "            #find where class ends (where sentence begins)\n",
    "            end = line.find(\"\\\",\\\"sentence\\\":\\\"\")\n",
    "            #substring line based on front and end above\n",
    "            reqClass = (line[(front+9):end]).lower()\n",
    "\n",
    "            #sentence\n",
    "            del tempList[:]\n",
    "            temp = line.find(\"\\\"sentence\\\":\\\"\")\n",
    "            sentence = (line[(temp+12):-4]).lower()\n",
    "            sentence = sentence.translate(None, '.,-\\\":;~!@#$%^&?[]{}<>`1234567890\\\\*()').strip()\n",
    "\n",
    "            if \"nonfunctional\" in reqClass and (nonfunctional < STOP):\n",
    "                if sentence in func:\n",
    "                    continue\n",
    "                nonfunc.append(sentence)\n",
    "                nonfunctional +=1\n",
    "                trainLabels.append(0)\n",
    "                for x in sentence.split(' '):\n",
    "                    x = unicode(x, 'utf-8')\n",
    "                    x = sno.stem(x)\n",
    "                    if x in data:\n",
    "                        tempList.append(data[x])\n",
    "                    else:\n",
    "                        tempList.append(1)\n",
    "                trainData.append(tempList[:])\n",
    "            elif \"functional\" in reqClass and (functional < STOP):\n",
    "                if sentence in nonfunc:\n",
    "                    continue\n",
    "                func.append(sentence)\n",
    "                functional +=1\n",
    "                trainLabels.append(1)\n",
    "                for x in sentence.split(' '):\n",
    "                    x = unicode(x, 'utf-8')\n",
    "                    x = sno.stem(x)\n",
    "                    if x in data:\n",
    "                        tempList.append(data[x])\n",
    "                    else:\n",
    "                        tempList.append(1)\n",
    "                trainData.append(tempList[:])\n",
    "            else:\n",
    "                if (nonfunctional < STOP):\n",
    "                    if sentence in func:\n",
    "                        continue\n",
    "                    nonfunc.append(sentence)\n",
    "                    nonfunctional +=1\n",
    "                    trainLabels.append(0)\n",
    "                    for x in sentence.split(' '):\n",
    "                        x = unicode(x, 'utf-8')\n",
    "                        x = sno.stem(x)\n",
    "                        if x in data:\n",
    "                            tempList.append(data[x])\n",
    "                        #UNCOMMENTING IS STRONGLY NOT RECOMMENDED\n",
    "                        else:\n",
    "                            tempList.append(1)\n",
    "                    trainData.append(tempList[:])\n",
    "                    "
   ]
  },
  {
   "cell_type": "code",
   "execution_count": 3,
   "metadata": {},
   "outputs": [],
   "source": [
    "trainData, trainLabels = shuffle(trainData, trainLabels)"
   ]
  },
  {
   "cell_type": "code",
   "execution_count": 4,
   "metadata": {},
   "outputs": [],
   "source": [
    "from random import randint\n",
    "\n",
    "testData = []\n",
    "testLabels = []\n",
    "\n",
    "nonfunctional = 0\n",
    "functional = 0\n",
    "\n",
    "testDataNumber = 200\n",
    "\n",
    "for x in trainLabels:\n",
    "    if x == 1 and functional < testDataNumber:\n",
    "        functional += 1\n",
    "        testData.append(trainData.pop(0))\n",
    "        testLabels.append(trainLabels.pop(0))\n",
    "    else:\n",
    "        if x == 0 and nonfunctional < testDataNumber:\n",
    "            nonfunctional += 1\n",
    "            testData.append(trainData.pop(0))\n",
    "            testLabels.append(trainLabels.pop(0))"
   ]
  },
  {
   "cell_type": "code",
   "execution_count": 5,
   "metadata": {},
   "outputs": [
    {
     "name": "stdout",
     "output_type": "stream",
     "text": [
      "1101\n",
      "1099\n",
      "199\n",
      "201\n"
     ]
    }
   ],
   "source": [
    "print(trainLabels.count(1))\n",
    "print(trainLabels.count(0))\n",
    "print(testLabels.count(1))\n",
    "print(testLabels.count(0))"
   ]
  },
  {
   "cell_type": "code",
   "execution_count": 6,
   "metadata": {},
   "outputs": [],
   "source": [
    "#randomizing data in two arrays without disrupting the order\n",
    "testData, testLabels = shuffle(testData, testLabels)"
   ]
  },
  {
   "cell_type": "code",
   "execution_count": 7,
   "metadata": {},
   "outputs": [
    {
     "name": "stdout",
     "output_type": "stream",
     "text": [
      "[198, 1, 23, 93, 62, 223, 45, 1, 72, 1, 62, 846, 130, 72, 1, 45, 1, 90, 384, 1, 38, 23, 17, 1, 1, 23, 93, 1, 1039, 554, 1, 1, 1039, 252, 1, 1, 45, 972, 266, 1, 1, 84, 1, 1, 1, 160, 1, 1, 17, 891, 1252, 1, 45]\n",
      "[1, 9, 1, 1, 26, 1, 231, 778, 465, 79, 1, 156, 1, 1, 764, 1, 1, 156, 1, 1, 1, 1, 1, 1554]\n"
     ]
    }
   ],
   "source": [
    "#sanity check\n",
    "#those should NOT be the same\n",
    "print testData[0]\n",
    "print trainData[0]"
   ]
  },
  {
   "cell_type": "code",
   "execution_count": 8,
   "metadata": {},
   "outputs": [],
   "source": [
    "# A dictionary mapping words to an integer index\n",
    "word_index = json.load(open('libraryStemmed2.json', 'r'))\n",
    "\n",
    "word_index[\"<PAD>\"] = 0\n",
    "word_index[\"<UNK>\"] = 1 # unknown\n",
    "\n",
    "reverse_word_index = dict([(value, key) for (key, value) in word_index.items()])\n",
    "\n",
    "def decode_review(text):\n",
    "    return ' '.join([reverse_word_index.get(i, '?') for i in text])"
   ]
  },
  {
   "cell_type": "code",
   "execution_count": 9,
   "metadata": {},
   "outputs": [
    {
     "name": "stdout",
     "output_type": "stream",
     "text": [
      "<UNK> system <UNK> <UNK> abil <UNK> determin cost per administr <UNK> drug <UNK> <UNK> purchas <UNK> <UNK> drug <UNK> <UNK> <UNK> <UNK> <UNK> increment\n",
      "0\n"
     ]
    }
   ],
   "source": [
    "print(decode_review(trainData[0]))\n",
    "print(trainLabels[0])"
   ]
  },
  {
   "cell_type": "code",
   "execution_count": 10,
   "metadata": {},
   "outputs": [],
   "source": [
    "trainData = keras.preprocessing.sequence.pad_sequences(trainData,\n",
    "                                                        value=word_index[\"<PAD>\"],\n",
    "                                                        padding='post',\n",
    "                                                        maxlen=32)\n",
    "\n",
    "testData = keras.preprocessing.sequence.pad_sequences(testData,\n",
    "                                                       value=word_index[\"<PAD>\"],\n",
    "                                                       padding='post',\n",
    "                                                       maxlen=32)"
   ]
  },
  {
   "cell_type": "code",
   "execution_count": 11,
   "metadata": {},
   "outputs": [
    {
     "name": "stdout",
     "output_type": "stream",
     "text": [
      "_________________________________________________________________\n",
      "Layer (type)                 Output Shape              Param #   \n",
      "=================================================================\n",
      "embedding (Embedding)        (None, None, 16)          32080     \n",
      "_________________________________________________________________\n",
      "global_average_pooling1d (Gl (None, 16)                0         \n",
      "_________________________________________________________________\n",
      "dense (Dense)                (None, 16)                272       \n",
      "_________________________________________________________________\n",
      "dense_1 (Dense)              (None, 1)                 17        \n",
      "=================================================================\n",
      "Total params: 32,369\n",
      "Trainable params: 32,369\n",
      "Non-trainable params: 0\n",
      "_________________________________________________________________\n"
     ]
    }
   ],
   "source": [
    "vocab_size = 2005\n",
    "\n",
    "model = keras.Sequential()\n",
    "model.add(keras.layers.Embedding(vocab_size, 16))\n",
    "model.add(keras.layers.GlobalAveragePooling1D())\n",
    "model.add(keras.layers.Dense(16, activation=tf.nn.relu))\n",
    "model.add(keras.layers.Dense(1, activation=tf.nn.sigmoid))\n",
    "\n",
    "model.summary()"
   ]
  },
  {
   "cell_type": "code",
   "execution_count": 12,
   "metadata": {},
   "outputs": [],
   "source": [
    "model.compile(optimizer=tf.train.AdamOptimizer(),\n",
    "              loss='binary_crossentropy',\n",
    "              metrics=['accuracy'])"
   ]
  },
  {
   "cell_type": "code",
   "execution_count": 13,
   "metadata": {},
   "outputs": [],
   "source": [
    "x_val = trainData[2000:]\n",
    "partial_x_train = trainData[:2000]\n",
    "\n",
    "y_val = trainLabels[2000:]\n",
    "partial_y_train = trainLabels[:2000]"
   ]
  },
  {
   "cell_type": "code",
   "execution_count": 14,
   "metadata": {},
   "outputs": [
    {
     "name": "stdout",
     "output_type": "stream",
     "text": [
      "400/400 [==============================] - 0s 486us/step\n",
      "[0.693347589969635, 0.5]\n"
     ]
    }
   ],
   "source": [
    "print(model.evaluate(testData, testLabels))"
   ]
  },
  {
   "cell_type": "code",
   "execution_count": 15,
   "metadata": {
    "scrolled": false
   },
   "outputs": [
    {
     "name": "stdout",
     "output_type": "stream",
     "text": [
      "Train on 2000 samples, validate on 200 samples\n",
      "Epoch 1/50\n",
      "2000/2000 [==============================] - 1s 284us/step - loss: 0.6935 - acc: 0.5025 - val_loss: 0.6923 - val_acc: 0.5450\n",
      "Epoch 2/50\n",
      "2000/2000 [==============================] - 0s 21us/step - loss: 0.6922 - acc: 0.5790 - val_loss: 0.6923 - val_acc: 0.5350\n",
      "Epoch 3/50\n",
      "2000/2000 [==============================] - 0s 21us/step - loss: 0.6911 - acc: 0.5875 - val_loss: 0.6919 - val_acc: 0.5300\n",
      "Epoch 4/50\n",
      "2000/2000 [==============================] - 0s 21us/step - loss: 0.6899 - acc: 0.5960 - val_loss: 0.6913 - val_acc: 0.5400\n",
      "Epoch 5/50\n",
      "2000/2000 [==============================] - 0s 21us/step - loss: 0.6887 - acc: 0.6005 - val_loss: 0.6907 - val_acc: 0.5400\n",
      "Epoch 6/50\n",
      "2000/2000 [==============================] - 0s 23us/step - loss: 0.6875 - acc: 0.6100 - val_loss: 0.6902 - val_acc: 0.5400\n",
      "Epoch 7/50\n",
      "2000/2000 [==============================] - 0s 24us/step - loss: 0.6861 - acc: 0.6165 - val_loss: 0.6896 - val_acc: 0.5450\n",
      "Epoch 8/50\n",
      "2000/2000 [==============================] - 0s 23us/step - loss: 0.6846 - acc: 0.6220 - val_loss: 0.6889 - val_acc: 0.5450\n",
      "Epoch 9/50\n",
      "2000/2000 [==============================] - 0s 22us/step - loss: 0.6830 - acc: 0.6275 - val_loss: 0.6881 - val_acc: 0.5450\n",
      "Epoch 10/50\n",
      "2000/2000 [==============================] - 0s 21us/step - loss: 0.6811 - acc: 0.6320 - val_loss: 0.6868 - val_acc: 0.5500\n",
      "Epoch 11/50\n",
      "2000/2000 [==============================] - 0s 23us/step - loss: 0.6790 - acc: 0.6365 - val_loss: 0.6852 - val_acc: 0.5750\n",
      "Epoch 12/50\n",
      "2000/2000 [==============================] - 0s 23us/step - loss: 0.6767 - acc: 0.6410 - val_loss: 0.6836 - val_acc: 0.5900\n",
      "Epoch 13/50\n",
      "2000/2000 [==============================] - 0s 23us/step - loss: 0.6744 - acc: 0.6485 - val_loss: 0.6820 - val_acc: 0.5900\n",
      "Epoch 14/50\n",
      "2000/2000 [==============================] - 0s 25us/step - loss: 0.6718 - acc: 0.6550 - val_loss: 0.6802 - val_acc: 0.6100\n",
      "Epoch 15/50\n",
      "2000/2000 [==============================] - 0s 24us/step - loss: 0.6690 - acc: 0.6620 - val_loss: 0.6784 - val_acc: 0.6100\n",
      "Epoch 16/50\n",
      "2000/2000 [==============================] - 0s 27us/step - loss: 0.6662 - acc: 0.6655 - val_loss: 0.6762 - val_acc: 0.6100\n",
      "Epoch 17/50\n",
      "2000/2000 [==============================] - 0s 22us/step - loss: 0.6630 - acc: 0.6755 - val_loss: 0.6741 - val_acc: 0.6150\n",
      "Epoch 18/50\n",
      "2000/2000 [==============================] - 0s 24us/step - loss: 0.6596 - acc: 0.6845 - val_loss: 0.6714 - val_acc: 0.6150\n",
      "Epoch 19/50\n",
      "2000/2000 [==============================] - 0s 24us/step - loss: 0.6560 - acc: 0.6900 - val_loss: 0.6685 - val_acc: 0.6250\n",
      "Epoch 20/50\n",
      "2000/2000 [==============================] - 0s 23us/step - loss: 0.6521 - acc: 0.6975 - val_loss: 0.6656 - val_acc: 0.6200\n",
      "Epoch 21/50\n",
      "2000/2000 [==============================] - 0s 22us/step - loss: 0.6480 - acc: 0.7010 - val_loss: 0.6629 - val_acc: 0.6200\n",
      "Epoch 22/50\n",
      "2000/2000 [==============================] - 0s 24us/step - loss: 0.6437 - acc: 0.7050 - val_loss: 0.6600 - val_acc: 0.6200\n",
      "Epoch 23/50\n",
      "2000/2000 [==============================] - 0s 25us/step - loss: 0.6391 - acc: 0.7130 - val_loss: 0.6561 - val_acc: 0.6250\n",
      "Epoch 24/50\n",
      "2000/2000 [==============================] - 0s 23us/step - loss: 0.6340 - acc: 0.7275 - val_loss: 0.6511 - val_acc: 0.6400\n",
      "Epoch 25/50\n",
      "2000/2000 [==============================] - 0s 22us/step - loss: 0.6287 - acc: 0.7400 - val_loss: 0.6470 - val_acc: 0.6400\n",
      "Epoch 26/50\n",
      "2000/2000 [==============================] - 0s 24us/step - loss: 0.6231 - acc: 0.7480 - val_loss: 0.6417 - val_acc: 0.6550\n",
      "Epoch 27/50\n",
      "2000/2000 [==============================] - 0s 24us/step - loss: 0.6173 - acc: 0.7550 - val_loss: 0.6374 - val_acc: 0.6650\n",
      "Epoch 28/50\n",
      "2000/2000 [==============================] - 0s 21us/step - loss: 0.6112 - acc: 0.7630 - val_loss: 0.6331 - val_acc: 0.6700\n",
      "Epoch 29/50\n",
      "2000/2000 [==============================] - 0s 24us/step - loss: 0.6047 - acc: 0.7640 - val_loss: 0.6293 - val_acc: 0.6750\n",
      "Epoch 30/50\n",
      "2000/2000 [==============================] - 0s 25us/step - loss: 0.5980 - acc: 0.7690 - val_loss: 0.6235 - val_acc: 0.6750\n",
      "Epoch 31/50\n",
      "2000/2000 [==============================] - 0s 25us/step - loss: 0.5912 - acc: 0.7725 - val_loss: 0.6186 - val_acc: 0.6750\n",
      "Epoch 32/50\n",
      "2000/2000 [==============================] - 0s 24us/step - loss: 0.5842 - acc: 0.7735 - val_loss: 0.6139 - val_acc: 0.6750\n",
      "Epoch 33/50\n",
      "2000/2000 [==============================] - 0s 27us/step - loss: 0.5771 - acc: 0.7825 - val_loss: 0.6068 - val_acc: 0.6800\n",
      "Epoch 34/50\n",
      "2000/2000 [==============================] - 0s 25us/step - loss: 0.5699 - acc: 0.7850 - val_loss: 0.6017 - val_acc: 0.6800\n",
      "Epoch 35/50\n",
      "2000/2000 [==============================] - 0s 24us/step - loss: 0.5626 - acc: 0.7885 - val_loss: 0.5984 - val_acc: 0.6750\n",
      "Epoch 36/50\n",
      "2000/2000 [==============================] - 0s 23us/step - loss: 0.5552 - acc: 0.7890 - val_loss: 0.5942 - val_acc: 0.6800\n",
      "Epoch 37/50\n",
      "2000/2000 [==============================] - 0s 23us/step - loss: 0.5479 - acc: 0.7880 - val_loss: 0.5889 - val_acc: 0.6900\n",
      "Epoch 38/50\n",
      "2000/2000 [==============================] - 0s 24us/step - loss: 0.5407 - acc: 0.7925 - val_loss: 0.5830 - val_acc: 0.6950\n",
      "Epoch 39/50\n",
      "2000/2000 [==============================] - 0s 25us/step - loss: 0.5335 - acc: 0.7990 - val_loss: 0.5790 - val_acc: 0.7000\n",
      "Epoch 40/50\n",
      "2000/2000 [==============================] - 0s 22us/step - loss: 0.5262 - acc: 0.8015 - val_loss: 0.5751 - val_acc: 0.7000\n",
      "Epoch 41/50\n",
      "2000/2000 [==============================] - 0s 22us/step - loss: 0.5193 - acc: 0.8010 - val_loss: 0.5709 - val_acc: 0.7000\n",
      "Epoch 42/50\n",
      "2000/2000 [==============================] - 0s 25us/step - loss: 0.5122 - acc: 0.8030 - val_loss: 0.5676 - val_acc: 0.7100\n",
      "Epoch 43/50\n",
      "2000/2000 [==============================] - 0s 25us/step - loss: 0.5053 - acc: 0.8030 - val_loss: 0.5647 - val_acc: 0.7100\n",
      "Epoch 44/50\n",
      "2000/2000 [==============================] - 0s 24us/step - loss: 0.4984 - acc: 0.8035 - val_loss: 0.5597 - val_acc: 0.7100\n",
      "Epoch 45/50\n",
      "2000/2000 [==============================] - 0s 22us/step - loss: 0.4918 - acc: 0.8110 - val_loss: 0.5547 - val_acc: 0.7000\n",
      "Epoch 46/50\n",
      "2000/2000 [==============================] - 0s 24us/step - loss: 0.4851 - acc: 0.8120 - val_loss: 0.5524 - val_acc: 0.7100\n",
      "Epoch 47/50\n",
      "2000/2000 [==============================] - 0s 24us/step - loss: 0.4786 - acc: 0.8160 - val_loss: 0.5495 - val_acc: 0.7050\n",
      "Epoch 48/50\n",
      "2000/2000 [==============================] - 0s 23us/step - loss: 0.4725 - acc: 0.8155 - val_loss: 0.5475 - val_acc: 0.7100\n",
      "Epoch 49/50\n",
      "2000/2000 [==============================] - 0s 23us/step - loss: 0.4664 - acc: 0.8180 - val_loss: 0.5441 - val_acc: 0.7100\n",
      "Epoch 50/50\n",
      "2000/2000 [==============================] - 0s 26us/step - loss: 0.4604 - acc: 0.8200 - val_loss: 0.5398 - val_acc: 0.7000\n"
     ]
    }
   ],
   "source": [
    "history = model.fit(partial_x_train,\n",
    "                    partial_y_train,\n",
    "                    epochs=50,\n",
    "                    batch_size=512,\n",
    "                    validation_data=(x_val, y_val),\n",
    "                    verbose=1)"
   ]
  },
  {
   "cell_type": "code",
   "execution_count": 16,
   "metadata": {},
   "outputs": [
    {
     "name": "stdout",
     "output_type": "stream",
     "text": [
      "400/400 [==============================] - 0s 59us/step\n",
      "[0.5410567378997803, 0.7525]\n"
     ]
    }
   ],
   "source": [
    "print(model.evaluate(testData, testLabels))"
   ]
  },
  {
   "cell_type": "code",
   "execution_count": 17,
   "metadata": {},
   "outputs": [
    {
     "data": {
      "text/plain": [
       "['acc', 'loss', 'val_acc', 'val_loss']"
      ]
     },
     "execution_count": 17,
     "metadata": {},
     "output_type": "execute_result"
    }
   ],
   "source": [
    "history_dict = history.history\n",
    "history_dict.keys()"
   ]
  },
  {
   "cell_type": "code",
   "execution_count": 18,
   "metadata": {},
   "outputs": [
    {
     "data": {
      "image/png": "[encoded data removed]",
      "text/plain": [
       "<Figure size 432x288 with 1 Axes>"
      ]
     },
     "metadata": {
      "needs_background": "light"
     },
     "output_type": "display_data"
    }
   ],
   "source": [
    "acc = history.history['acc']\n",
    "val_acc = history.history['val_acc']\n",
    "loss = history.history['loss']\n",
    "val_loss = history.history['val_loss']\n",
    "\n",
    "epochs = range(1, len(acc) + 1)\n",
    "\n",
    "# \"bo\" is for \"blue dot\"\n",
    "plt.plot(epochs, loss, 'bo', label='Training loss')\n",
    "# b is for \"solid blue line\"\n",
    "plt.plot(epochs, val_loss, 'b', label='Validation loss')\n",
    "plt.title('Training and validation loss')\n",
    "plt.xlabel('Epochs')\n",
    "plt.ylabel('Loss')\n",
    "plt.legend()\n",
    "\n",
    "plt.show()"
   ]
  },
  {
   "cell_type": "code",
   "execution_count": 19,
   "metadata": {},
   "outputs": [
    {
     "data": {
      "image/png": "[encoded data removed]",
      "text/plain": [
       "<Figure size 432x288 with 1 Axes>"
      ]
     },
     "metadata": {
      "needs_background": "light"
     },
     "output_type": "display_data"
    }
   ],
   "source": [
    "plt.clf()   # clear figure\n",
    "acc_values = history_dict['acc']\n",
    "val_acc_values = history_dict['val_acc']\n",
    "\n",
    "plt.plot(epochs, acc, 'bo', label='Training acc')\n",
    "plt.plot(epochs, val_acc, 'b', label='Validation acc')\n",
    "plt.title('Training and validation accuracy')\n",
    "plt.xlabel('Epochs')\n",
    "plt.ylabel('Accuracy')\n",
    "plt.legend()\n",
    "\n",
    "plt.show()"
   ]
  }
 ],
 "metadata": {
  "kernelspec": {
   "display_name": "Python 2",
   "language": "python",
   "name": "python2"
  },
  "language_info": {
   "codemirror_mode": {
    "name": "ipython",
    "version": 2
   },
   "file_extension": ".py",
   "mimetype": "text/x-python",
   "name": "python",
   "nbconvert_exporter": "python",
   "pygments_lexer": "ipython2",
   "version": "2.7.12"
  }
 },
 "nbformat": 4,
 "nbformat_minor": 2
}
